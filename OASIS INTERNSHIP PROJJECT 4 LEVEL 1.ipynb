{
 "cells": [
  {
   "cell_type": "markdown",
   "id": "781eb9eb",
   "metadata": {},
   "source": [
    "# Sentiment Analysis\n",
    "It is the process of analyzing digital text data to determine if the emotional tone of the message is positive,negative or neutral."
   ]
  },
  {
   "cell_type": "code",
   "execution_count": 2,
   "id": "37756ee8",
   "metadata": {},
   "outputs": [],
   "source": [
    "import numpy as np\n",
    "import pandas as pd\n",
    "import re\n",
    "import nltk\n",
    "from nltk.corpus import stopwords\n",
    "from nltk.stem.porter import PorterStemmer\n",
    "from sklearn.feature_extraction.text import TfidfVectorizer\n",
    "from sklearn.model_selection import train_test_split\n",
    "from sklearn.linear_model import LogisticRegression\n",
    "from sklearn.metrics import accuracy_score"
   ]
  },
  {
   "cell_type": "code",
   "execution_count": 3,
   "id": "db8935c7",
   "metadata": {
    "scrolled": true
   },
   "outputs": [
    {
     "name": "stderr",
     "output_type": "stream",
     "text": [
      "[nltk_data] Downloading package stopwords to\n",
      "[nltk_data]     C:\\Users\\Oreva\\AppData\\Roaming\\nltk_data...\n",
      "[nltk_data]   Package stopwords is already up-to-date!\n"
     ]
    },
    {
     "data": {
      "text/plain": [
       "True"
      ]
     },
     "execution_count": 3,
     "metadata": {},
     "output_type": "execute_result"
    }
   ],
   "source": [
    "nltk.download('stopwords')"
   ]
  },
  {
   "cell_type": "code",
   "execution_count": 4,
   "id": "12defaa8",
   "metadata": {},
   "outputs": [
    {
     "name": "stdout",
     "output_type": "stream",
     "text": [
      "['i', 'me', 'my', 'myself', 'we', 'our', 'ours', 'ourselves', 'you', \"you're\", \"you've\", \"you'll\", \"you'd\", 'your', 'yours', 'yourself', 'yourselves', 'he', 'him', 'his', 'himself', 'she', \"she's\", 'her', 'hers', 'herself', 'it', \"it's\", 'its', 'itself', 'they', 'them', 'their', 'theirs', 'themselves', 'what', 'which', 'who', 'whom', 'this', 'that', \"that'll\", 'these', 'those', 'am', 'is', 'are', 'was', 'were', 'be', 'been', 'being', 'have', 'has', 'had', 'having', 'do', 'does', 'did', 'doing', 'a', 'an', 'the', 'and', 'but', 'if', 'or', 'because', 'as', 'until', 'while', 'of', 'at', 'by', 'for', 'with', 'about', 'against', 'between', 'into', 'through', 'during', 'before', 'after', 'above', 'below', 'to', 'from', 'up', 'down', 'in', 'out', 'on', 'off', 'over', 'under', 'again', 'further', 'then', 'once', 'here', 'there', 'when', 'where', 'why', 'how', 'all', 'any', 'both', 'each', 'few', 'more', 'most', 'other', 'some', 'such', 'no', 'nor', 'not', 'only', 'own', 'same', 'so', 'than', 'too', 'very', 's', 't', 'can', 'will', 'just', 'don', \"don't\", 'should', \"should've\", 'now', 'd', 'll', 'm', 'o', 're', 've', 'y', 'ain', 'aren', \"aren't\", 'couldn', \"couldn't\", 'didn', \"didn't\", 'doesn', \"doesn't\", 'hadn', \"hadn't\", 'hasn', \"hasn't\", 'haven', \"haven't\", 'isn', \"isn't\", 'ma', 'mightn', \"mightn't\", 'mustn', \"mustn't\", 'needn', \"needn't\", 'shan', \"shan't\", 'shouldn', \"shouldn't\", 'wasn', \"wasn't\", 'weren', \"weren't\", 'won', \"won't\", 'wouldn', \"wouldn't\"]\n"
     ]
    }
   ],
   "source": [
    "#print stopword\n",
    "print (stopwords.words('english'))"
   ]
  },
  {
   "cell_type": "markdown",
   "id": "fc96ac09",
   "metadata": {},
   "source": [
    "- NOTE: stopwords are words that do not add any influencial meaning to our data "
   ]
  },
  {
   "cell_type": "code",
   "execution_count": 5,
   "id": "425f32c1",
   "metadata": {},
   "outputs": [],
   "source": [
    "df = pd.read_csv('C:/Users/Oreva/Desktop/lecture/Twitter_data.csv', header=0)"
   ]
  },
  {
   "cell_type": "code",
   "execution_count": 6,
   "id": "94be4472",
   "metadata": {},
   "outputs": [
    {
     "data": {
      "text/plain": [
       "(162980, 2)"
      ]
     },
     "execution_count": 6,
     "metadata": {},
     "output_type": "execute_result"
    }
   ],
   "source": [
    "df.shape"
   ]
  },
  {
   "cell_type": "code",
   "execution_count": 7,
   "id": "ae0a73a9",
   "metadata": {},
   "outputs": [
    {
     "data": {
      "text/html": [
       "<div>\n",
       "<style scoped>\n",
       "    .dataframe tbody tr th:only-of-type {\n",
       "        vertical-align: middle;\n",
       "    }\n",
       "\n",
       "    .dataframe tbody tr th {\n",
       "        vertical-align: top;\n",
       "    }\n",
       "\n",
       "    .dataframe thead th {\n",
       "        text-align: right;\n",
       "    }\n",
       "</style>\n",
       "<table border=\"1\" class=\"dataframe\">\n",
       "  <thead>\n",
       "    <tr style=\"text-align: right;\">\n",
       "      <th></th>\n",
       "      <th>clean_text</th>\n",
       "      <th>category</th>\n",
       "    </tr>\n",
       "  </thead>\n",
       "  <tbody>\n",
       "    <tr>\n",
       "      <th>0</th>\n",
       "      <td>when modi promised “minimum government maximum...</td>\n",
       "      <td>-1.0</td>\n",
       "    </tr>\n",
       "    <tr>\n",
       "      <th>1</th>\n",
       "      <td>talk all the nonsense and continue all the dra...</td>\n",
       "      <td>0.0</td>\n",
       "    </tr>\n",
       "    <tr>\n",
       "      <th>2</th>\n",
       "      <td>what did just say vote for modi  welcome bjp t...</td>\n",
       "      <td>1.0</td>\n",
       "    </tr>\n",
       "    <tr>\n",
       "      <th>3</th>\n",
       "      <td>asking his supporters prefix chowkidar their n...</td>\n",
       "      <td>1.0</td>\n",
       "    </tr>\n",
       "    <tr>\n",
       "      <th>4</th>\n",
       "      <td>answer who among these the most powerful world...</td>\n",
       "      <td>1.0</td>\n",
       "    </tr>\n",
       "  </tbody>\n",
       "</table>\n",
       "</div>"
      ],
      "text/plain": [
       "                                          clean_text  category\n",
       "0  when modi promised “minimum government maximum...      -1.0\n",
       "1  talk all the nonsense and continue all the dra...       0.0\n",
       "2  what did just say vote for modi  welcome bjp t...       1.0\n",
       "3  asking his supporters prefix chowkidar their n...       1.0\n",
       "4  answer who among these the most powerful world...       1.0"
      ]
     },
     "execution_count": 7,
     "metadata": {},
     "output_type": "execute_result"
    }
   ],
   "source": [
    "df.head()"
   ]
  },
  {
   "cell_type": "code",
   "execution_count": 8,
   "id": "c7fa2d6a",
   "metadata": {},
   "outputs": [
    {
     "name": "stdout",
     "output_type": "stream",
     "text": [
      "<class 'pandas.core.frame.DataFrame'>\n",
      "RangeIndex: 162980 entries, 0 to 162979\n",
      "Data columns (total 2 columns):\n",
      " #   Column      Non-Null Count   Dtype  \n",
      "---  ------      --------------   -----  \n",
      " 0   clean_text  162976 non-null  object \n",
      " 1   category    162973 non-null  float64\n",
      "dtypes: float64(1), object(1)\n",
      "memory usage: 2.5+ MB\n"
     ]
    }
   ],
   "source": [
    "df.info()"
   ]
  },
  {
   "cell_type": "code",
   "execution_count": 9,
   "id": "e8f028db",
   "metadata": {},
   "outputs": [
    {
     "data": {
      "text/plain": [
       "clean_text    4\n",
       "category      7\n",
       "dtype: int64"
      ]
     },
     "execution_count": 9,
     "metadata": {},
     "output_type": "execute_result"
    }
   ],
   "source": [
    "df.isnull().sum()"
   ]
  },
  {
   "cell_type": "code",
   "execution_count": 10,
   "id": "b9e031b5",
   "metadata": {},
   "outputs": [
    {
     "data": {
      "text/plain": [
       " 1.0    72250\n",
       " 0.0    55213\n",
       "-1.0    35510\n",
       "Name: category, dtype: int64"
      ]
     },
     "execution_count": 10,
     "metadata": {},
     "output_type": "execute_result"
    }
   ],
   "source": [
    "df['category'].value_counts()"
   ]
  },
  {
   "cell_type": "code",
   "execution_count": 11,
   "id": "2049cb48",
   "metadata": {},
   "outputs": [],
   "source": [
    "# handle duplicates\n",
    "df= df.drop_duplicates()"
   ]
  },
  {
   "cell_type": "code",
   "execution_count": 12,
   "id": "d5cbe799",
   "metadata": {},
   "outputs": [
    {
     "data": {
      "text/plain": [
       "(162979, 2)"
      ]
     },
     "execution_count": 12,
     "metadata": {},
     "output_type": "execute_result"
    }
   ],
   "source": [
    "df.shape"
   ]
  },
  {
   "cell_type": "code",
   "execution_count": 13,
   "id": "516a6b76",
   "metadata": {},
   "outputs": [],
   "source": [
    "import seaborn as sns\n",
    "import matplotlib.pyplot as plt"
   ]
  },
  {
   "cell_type": "code",
   "execution_count": 14,
   "id": "9466d3a3",
   "metadata": {},
   "outputs": [
    {
     "data": {
      "text/plain": [
       "Text(0.5, 1.0, 'category distribution')"
      ]
     },
     "execution_count": 14,
     "metadata": {},
     "output_type": "execute_result"
    },
    {
     "data": {
      "image/png": "[encoded data removed]",
      "text/plain": [
       "<Figure size 720x360 with 1 Axes>"
      ]
     },
     "metadata": {},
     "output_type": "display_data"
    }
   ],
   "source": [
    "plt.figure(figsize=(10,5))\n",
    "df['category'].value_counts().plot.pie(autopct ='%.2f%%' )\n",
    "plt.title('category distribution',fontsize =20)"
   ]
  },
  {
   "cell_type": "markdown",
   "id": "3fe17ce2",
   "metadata": {},
   "source": [
    "## Observations\n",
    "- Missings values  are present\n",
    "- Inconsistencies present in the clean_text column \n",
    "- The category column is not even which is not a good practice for performing sentiment analysis\n",
    "- Category column is the sentiment column and it is grouped into:\n",
    "  - 1 → Negative\n",
    "  - 0 → Neutral\n",
    "  - 1 → Positive"
   ]
  },
  {
   "cell_type": "code",
   "execution_count": 15,
   "id": "51c7301a",
   "metadata": {},
   "outputs": [],
   "source": [
    "# remove missing value\n",
    "df = df.dropna()"
   ]
  },
  {
   "cell_type": "code",
   "execution_count": 16,
   "id": "4193267d",
   "metadata": {},
   "outputs": [
    {
     "data": {
      "text/plain": [
       "clean_text    0\n",
       "category      0\n",
       "dtype: int64"
      ]
     },
     "execution_count": 16,
     "metadata": {},
     "output_type": "execute_result"
    }
   ],
   "source": [
    "df.isnull().sum()"
   ]
  },
  {
   "cell_type": "code",
   "execution_count": 17,
   "id": "3b28cb21",
   "metadata": {
    "scrolled": true
   },
   "outputs": [
    {
     "data": {
      "text/plain": [
       "(162969, 2)"
      ]
     },
     "execution_count": 17,
     "metadata": {},
     "output_type": "execute_result"
    }
   ],
   "source": [
    "df.shape"
   ]
  },
  {
   "cell_type": "code",
   "execution_count": 18,
   "id": "7e2c9d7a",
   "metadata": {},
   "outputs": [],
   "source": [
    "# handling inconsistencies(cleaning data)\n",
    "def clean_text(text):\n",
    "    text = text.lower()  # Convert to lowercase\n",
    "    text = re.sub(r'http\\S+|www\\S+', '', text)  # Remove URLs\n",
    "    text = re.sub(r'[^a-zA-Z\\s]', '', text)  # Remove numbers and special characters\n",
    "    text = re.sub(r'\\s+', ' ', text).strip()  # Remove extra spaces\n",
    "    #text = [port_stem.stem(word) for word in text if not word in stopwords.words('english')] # performig stemming\n",
    "    #text = ' '.join(text)\n",
    "    return text\n",
    "\n"
   ]
  },
  {
   "cell_type": "code",
   "execution_count": 19,
   "id": "153218de",
   "metadata": {},
   "outputs": [
    {
     "data": {
      "text/html": [
       "<div>\n",
       "<style scoped>\n",
       "    .dataframe tbody tr th:only-of-type {\n",
       "        vertical-align: middle;\n",
       "    }\n",
       "\n",
       "    .dataframe tbody tr th {\n",
       "        vertical-align: top;\n",
       "    }\n",
       "\n",
       "    .dataframe thead th {\n",
       "        text-align: right;\n",
       "    }\n",
       "</style>\n",
       "<table border=\"1\" class=\"dataframe\">\n",
       "  <thead>\n",
       "    <tr style=\"text-align: right;\">\n",
       "      <th></th>\n",
       "      <th>clean_text</th>\n",
       "      <th>processed_text</th>\n",
       "    </tr>\n",
       "  </thead>\n",
       "  <tbody>\n",
       "    <tr>\n",
       "      <th>0</th>\n",
       "      <td>when modi promised “minimum government maximum...</td>\n",
       "      <td>when modi promised minimum government maximum ...</td>\n",
       "    </tr>\n",
       "    <tr>\n",
       "      <th>1</th>\n",
       "      <td>talk all the nonsense and continue all the dra...</td>\n",
       "      <td>talk all the nonsense and continue all the dra...</td>\n",
       "    </tr>\n",
       "    <tr>\n",
       "      <th>2</th>\n",
       "      <td>what did just say vote for modi  welcome bjp t...</td>\n",
       "      <td>what did just say vote for modi welcome bjp to...</td>\n",
       "    </tr>\n",
       "    <tr>\n",
       "      <th>3</th>\n",
       "      <td>asking his supporters prefix chowkidar their n...</td>\n",
       "      <td>asking his supporters prefix chowkidar their n...</td>\n",
       "    </tr>\n",
       "    <tr>\n",
       "      <th>4</th>\n",
       "      <td>answer who among these the most powerful world...</td>\n",
       "      <td>answer who among these the most powerful world...</td>\n",
       "    </tr>\n",
       "  </tbody>\n",
       "</table>\n",
       "</div>"
      ],
      "text/plain": [
       "                                          clean_text  \\\n",
       "0  when modi promised “minimum government maximum...   \n",
       "1  talk all the nonsense and continue all the dra...   \n",
       "2  what did just say vote for modi  welcome bjp t...   \n",
       "3  asking his supporters prefix chowkidar their n...   \n",
       "4  answer who among these the most powerful world...   \n",
       "\n",
       "                                      processed_text  \n",
       "0  when modi promised minimum government maximum ...  \n",
       "1  talk all the nonsense and continue all the dra...  \n",
       "2  what did just say vote for modi welcome bjp to...  \n",
       "3  asking his supporters prefix chowkidar their n...  \n",
       "4  answer who among these the most powerful world...  "
      ]
     },
     "execution_count": 19,
     "metadata": {},
     "output_type": "execute_result"
    }
   ],
   "source": [
    "# Apply cleaning and stemming to the 'clean_text' column\n",
    "df['processed_text'] = df['clean_text'].astype(str).apply(clean_text)\n",
    "\n",
    "# Display sample cleaned text\n",
    "df[['clean_text', 'processed_text']].head()"
   ]
  },
  {
   "cell_type": "code",
   "execution_count": 20,
   "id": "d1b5eac3",
   "metadata": {
    "scrolled": true
   },
   "outputs": [
    {
     "data": {
      "text/html": [
       "<div>\n",
       "<style scoped>\n",
       "    .dataframe tbody tr th:only-of-type {\n",
       "        vertical-align: middle;\n",
       "    }\n",
       "\n",
       "    .dataframe tbody tr th {\n",
       "        vertical-align: top;\n",
       "    }\n",
       "\n",
       "    .dataframe thead th {\n",
       "        text-align: right;\n",
       "    }\n",
       "</style>\n",
       "<table border=\"1\" class=\"dataframe\">\n",
       "  <thead>\n",
       "    <tr style=\"text-align: right;\">\n",
       "      <th></th>\n",
       "      <th>clean_text</th>\n",
       "      <th>category</th>\n",
       "      <th>processed_text</th>\n",
       "    </tr>\n",
       "  </thead>\n",
       "  <tbody>\n",
       "    <tr>\n",
       "      <th>0</th>\n",
       "      <td>when modi promised “minimum government maximum...</td>\n",
       "      <td>-1.0</td>\n",
       "      <td>when modi promised minimum government maximum ...</td>\n",
       "    </tr>\n",
       "    <tr>\n",
       "      <th>1</th>\n",
       "      <td>talk all the nonsense and continue all the dra...</td>\n",
       "      <td>0.0</td>\n",
       "      <td>talk all the nonsense and continue all the dra...</td>\n",
       "    </tr>\n",
       "    <tr>\n",
       "      <th>2</th>\n",
       "      <td>what did just say vote for modi  welcome bjp t...</td>\n",
       "      <td>1.0</td>\n",
       "      <td>what did just say vote for modi welcome bjp to...</td>\n",
       "    </tr>\n",
       "    <tr>\n",
       "      <th>3</th>\n",
       "      <td>asking his supporters prefix chowkidar their n...</td>\n",
       "      <td>1.0</td>\n",
       "      <td>asking his supporters prefix chowkidar their n...</td>\n",
       "    </tr>\n",
       "    <tr>\n",
       "      <th>4</th>\n",
       "      <td>answer who among these the most powerful world...</td>\n",
       "      <td>1.0</td>\n",
       "      <td>answer who among these the most powerful world...</td>\n",
       "    </tr>\n",
       "  </tbody>\n",
       "</table>\n",
       "</div>"
      ],
      "text/plain": [
       "                                          clean_text  category  \\\n",
       "0  when modi promised “minimum government maximum...      -1.0   \n",
       "1  talk all the nonsense and continue all the dra...       0.0   \n",
       "2  what did just say vote for modi  welcome bjp t...       1.0   \n",
       "3  asking his supporters prefix chowkidar their n...       1.0   \n",
       "4  answer who among these the most powerful world...       1.0   \n",
       "\n",
       "                                      processed_text  \n",
       "0  when modi promised minimum government maximum ...  \n",
       "1  talk all the nonsense and continue all the dra...  \n",
       "2  what did just say vote for modi welcome bjp to...  \n",
       "3  asking his supporters prefix chowkidar their n...  \n",
       "4  answer who among these the most powerful world...  "
      ]
     },
     "execution_count": 20,
     "metadata": {},
     "output_type": "execute_result"
    }
   ],
   "source": [
    "df.head()"
   ]
  },
  {
   "cell_type": "code",
   "execution_count": 21,
   "id": "c35940fc",
   "metadata": {},
   "outputs": [],
   "source": [
    "#seperating data and label\n",
    "X = df['processed_text']\n",
    "Y = df['category']"
   ]
  },
  {
   "cell_type": "code",
   "execution_count": 22,
   "id": "5704929e",
   "metadata": {},
   "outputs": [
    {
     "name": "stdout",
     "output_type": "stream",
     "text": [
      "0         when modi promised minimum government maximum ...\n",
      "1         talk all the nonsense and continue all the dra...\n",
      "2         what did just say vote for modi welcome bjp to...\n",
      "3         asking his supporters prefix chowkidar their n...\n",
      "4         answer who among these the most powerful world...\n",
      "                                ...                        \n",
      "162975    why these crores paid neerav modi not recovere...\n",
      "162976    dear rss terrorist payal gawar what about modi...\n",
      "162977    did you cover her interaction forum where she ...\n",
      "162978    there big project came into india modi dream p...\n",
      "162979    have you ever listen about like gurukul where ...\n",
      "Name: processed_text, Length: 162969, dtype: object\n",
      "0        -1.0\n",
      "1         0.0\n",
      "2         1.0\n",
      "3         1.0\n",
      "4         1.0\n",
      "         ... \n",
      "162975   -1.0\n",
      "162976   -1.0\n",
      "162977    0.0\n",
      "162978    0.0\n",
      "162979    1.0\n",
      "Name: category, Length: 162969, dtype: float64\n"
     ]
    }
   ],
   "source": [
    "print(X)\n",
    "print(Y)"
   ]
  },
  {
   "cell_type": "markdown",
   "id": "07d8ec91",
   "metadata": {},
   "source": [
    "## Converting text column to numerical  column "
   ]
  },
  {
   "cell_type": "code",
   "execution_count": 23,
   "id": "32bac771",
   "metadata": {},
   "outputs": [],
   "source": [
    "# Convert text into numerical features\n",
    "vectorizer = TfidfVectorizer()\n",
    "X = vectorizer.fit_transform(X)  # Transform text into numerical vectors\n"
   ]
  },
  {
   "cell_type": "markdown",
   "id": "ab8c11a6",
   "metadata": {},
   "source": [
    "# Treating uneven category Using random oversampling method\n"
   ]
  },
  {
   "cell_type": "code",
   "execution_count": 24,
   "id": "eeb9b170",
   "metadata": {
    "scrolled": false
   },
   "outputs": [
    {
     "name": "stdout",
     "output_type": "stream",
     "text": [
      "Requirement already satisfied: imbalanced-learn in c:\\users\\oreva\\anaconda3\\lib\\site-packages (0.12.4)\n",
      "Requirement already satisfied: numpy>=1.17.3 in c:\\users\\oreva\\anaconda3\\lib\\site-packages (from imbalanced-learn) (1.21.5)\n",
      "Requirement already satisfied: threadpoolctl>=2.0.0 in c:\\users\\oreva\\anaconda3\\lib\\site-packages (from imbalanced-learn) (2.2.0)\n",
      "Requirement already satisfied: scikit-learn>=1.0.2 in c:\\users\\oreva\\anaconda3\\lib\\site-packages (from imbalanced-learn) (1.0.2)\n",
      "Requirement already satisfied: joblib>=1.1.1 in c:\\users\\oreva\\anaconda3\\lib\\site-packages (from imbalanced-learn) (1.4.2)\n",
      "Requirement already satisfied: scipy>=1.5.0 in c:\\users\\oreva\\anaconda3\\lib\\site-packages (from imbalanced-learn) (1.7.3)\n"
     ]
    }
   ],
   "source": [
    "!pip install imbalanced-learn"
   ]
  },
  {
   "cell_type": "code",
   "execution_count": 25,
   "id": "d38f9b67",
   "metadata": {
    "scrolled": true
   },
   "outputs": [],
   "source": [
    "from imblearn.over_sampling import RandomOverSampler\n",
    "ros = RandomOverSampler(sampling_strategy='auto',random_state=42)\n",
    "X_ros, y_ros = ros.fit_resample(X,Y)"
   ]
  },
  {
   "cell_type": "code",
   "execution_count": 26,
   "id": "548b36f7",
   "metadata": {},
   "outputs": [
    {
     "data": {
      "text/plain": [
       "Text(0, 0.5, 'category')"
      ]
     },
     "execution_count": 26,
     "metadata": {},
     "output_type": "execute_result"
    },
    {
     "data": {
      "image/png": "[encoded data removed]",
      "text/plain": [
       "<Figure size 720x360 with 1 Axes>"
      ]
     },
     "metadata": {},
     "output_type": "display_data"
    }
   ],
   "source": [
    "plt.figure(figsize=(10,5))\n",
    "ax = y_ros.value_counts().plot.pie(autopct ='%.2f%%',startangle=60)\n",
    "plt.title('OverSampling',fontsize =20)\n",
    "plt.ylabel('category',fontsize=15)"
   ]
  },
  {
   "cell_type": "code",
   "execution_count": 27,
   "id": "dcfc6083",
   "metadata": {},
   "outputs": [
    {
     "data": {
      "text/plain": [
       "-1.0    72249\n",
       " 0.0    72249\n",
       " 1.0    72249\n",
       "Name: category, dtype: int64"
      ]
     },
     "execution_count": 27,
     "metadata": {},
     "output_type": "execute_result"
    }
   ],
   "source": [
    "y_ros.value_counts()"
   ]
  },
  {
   "cell_type": "markdown",
   "id": "d34f9fbc",
   "metadata": {},
   "source": [
    "##  Spliting data to training and testing datas"
   ]
  },
  {
   "cell_type": "code",
   "execution_count": 28,
   "id": "139ba484",
   "metadata": {},
   "outputs": [],
   "source": [
    "X_train, X_test, Y_train, Y_test = train_test_split(X_ros, y_ros, test_size=0.2, stratify=y_ros, random_state=42)"
   ]
  },
  {
   "cell_type": "code",
   "execution_count": 29,
   "id": "1112a67a",
   "metadata": {},
   "outputs": [
    {
     "name": "stdout",
     "output_type": "stream",
     "text": [
      "Before Oversampling:\n",
      "X shape: (162969, 101170)\n",
      "y shape: (162969,)\n"
     ]
    }
   ],
   "source": [
    "\n",
    "print(\"Before Oversampling:\")\n",
    "print(\"X shape:\", X.shape)\n",
    "print(\"y shape:\", Y.shape)\n"
   ]
  },
  {
   "cell_type": "code",
   "execution_count": 30,
   "id": "862a12a7",
   "metadata": {},
   "outputs": [
    {
     "name": "stdout",
     "output_type": "stream",
     "text": [
      "After Oversampling:\n",
      "X_ros shape: (216747, 101170)\n",
      "y_ros shape: (216747,)\n"
     ]
    }
   ],
   "source": [
    "print(\"After Oversampling:\")\n",
    "print(\"X_ros shape:\", X_ros.shape)\n",
    "print(\"y_ros shape:\", y_ros.shape)"
   ]
  },
  {
   "cell_type": "code",
   "execution_count": 31,
   "id": "b6ebb824",
   "metadata": {
    "scrolled": true
   },
   "outputs": [
    {
     "name": "stdout",
     "output_type": "stream",
     "text": [
      "(162969, 101170) (173397, 101170) (43350, 101170)\n"
     ]
    }
   ],
   "source": [
    "print(X.shape,X_train.shape,X_test.shape)"
   ]
  },
  {
   "cell_type": "code",
   "execution_count": 32,
   "id": "969b2e9f",
   "metadata": {},
   "outputs": [
    {
     "name": "stdout",
     "output_type": "stream",
     "text": [
      "  (0, 30370)\t0.8944045476398046\n",
      "  (0, 3120)\t0.43133303100928727\n",
      "  (0, 57497)\t0.118289143718169\n",
      "  (1, 37169)\t0.31354723300786197\n",
      "  (1, 27144)\t0.382962640595117\n",
      "  (1, 50021)\t0.3594941267353093\n",
      "  (1, 66530)\t0.4113691515015806\n",
      "  (1, 12196)\t0.22606738703318388\n",
      "  (1, 12184)\t0.19256091893234675\n",
      "  (1, 98335)\t0.19572736786254563\n",
      "  (1, 36358)\t0.17551707019108787\n",
      "  (1, 35579)\t0.13120596019477673\n",
      "  (1, 59604)\t0.12463242670206313\n",
      "  (1, 67738)\t0.14233617849792474\n",
      "  (1, 8866)\t0.1680335893648843\n",
      "  (1, 26706)\t0.14507315365206822\n",
      "  (1, 71062)\t0.17126141496421707\n",
      "  (1, 34940)\t0.20390240063145815\n",
      "  (1, 63030)\t0.1311564081169423\n",
      "  (1, 58822)\t0.16513153961901245\n",
      "  (1, 13262)\t0.08275712441165521\n",
      "  (1, 90754)\t0.07337702576586087\n",
      "  (1, 33093)\t0.08673373101756714\n",
      "  (1, 40284)\t0.10489675530518422\n",
      "  (1, 73607)\t0.10693258322807876\n",
      "  :\t:\n",
      "  (173394, 95186)\t0.3809846553894073\n",
      "  (173394, 14397)\t0.3734046830188844\n",
      "  (173394, 73576)\t0.3050736668883385\n",
      "  (173394, 55271)\t0.22455226672688477\n",
      "  (173394, 47320)\t0.678107289629658\n",
      "  (173394, 92906)\t0.20895999388981448\n",
      "  (173394, 90529)\t0.13222273710072702\n",
      "  (173394, 1923)\t0.16180994286314765\n",
      "  (173394, 5119)\t0.10767760416368148\n",
      "  (173394, 98712)\t0.10650522776411739\n",
      "  (173394, 57497)\t0.04276747883485345\n",
      "  (173395, 27395)\t0.5389978023034578\n",
      "  (173395, 55137)\t0.3524081303482374\n",
      "  (173395, 85625)\t0.40056392965887194\n",
      "  (173395, 38665)\t0.3090215929898841\n",
      "  (173395, 63850)\t0.34691926758968117\n",
      "  (173395, 10031)\t0.26594867040822157\n",
      "  (173395, 33471)\t0.2753686055111975\n",
      "  (173395, 98967)\t0.14706345896480677\n",
      "  (173395, 82495)\t0.1945540371568756\n",
      "  (173395, 57497)\t0.05436538737067246\n",
      "  (173396, 76968)\t0.6270003752898067\n",
      "  (173396, 68294)\t0.687215754153529\n",
      "  (173396, 34544)\t0.3546556684621002\n",
      "  (173396, 57497)\t0.09393824278396413\n"
     ]
    }
   ],
   "source": [
    "print(X_train)"
   ]
  },
  {
   "cell_type": "code",
   "execution_count": 33,
   "id": "08321642",
   "metadata": {},
   "outputs": [
    {
     "name": "stdout",
     "output_type": "stream",
     "text": [
      "  (0, 71278)\t0.36053463257794655\n",
      "  (0, 25906)\t0.3585182096353732\n",
      "  (0, 61578)\t0.45220169870452015\n",
      "  (0, 56674)\t0.3475794014724818\n",
      "  (0, 98133)\t0.3831112904624445\n",
      "  (0, 42136)\t0.2258727062588965\n",
      "  (0, 51676)\t0.2836412174874366\n",
      "  (0, 60871)\t0.2859018935975541\n",
      "  (0, 100529)\t0.21892857755444087\n",
      "  (0, 57497)\t0.09092282457974464\n",
      "  (1, 29374)\t0.4108741207029312\n",
      "  (1, 849)\t0.2508001502497388\n",
      "  (1, 80855)\t0.30899301302773935\n",
      "  (1, 50238)\t0.24995591294757133\n",
      "  (1, 18653)\t0.24473015468299456\n",
      "  (1, 53882)\t0.25884695926084833\n",
      "  (1, 61986)\t0.19553762858403717\n",
      "  (1, 1303)\t0.25031561610305747\n",
      "  (1, 72898)\t0.24441581447790453\n",
      "  (1, 78515)\t0.188670235742199\n",
      "  (1, 55550)\t0.2547169468813239\n",
      "  (1, 51676)\t0.30162767354720993\n",
      "  (1, 40284)\t0.16991893064808855\n",
      "  (1, 100529)\t0.11640571512437332\n",
      "  (1, 71825)\t0.24081943189364163\n",
      "  :\t:\n",
      "  (43348, 18805)\t0.20422361069374706\n",
      "  (43348, 35409)\t0.12506234705472483\n",
      "  (43348, 571)\t0.10890284681716363\n",
      "  (43348, 90635)\t0.31138130345787685\n",
      "  (43348, 35321)\t0.1398950334125986\n",
      "  (43348, 90754)\t0.07986842153914535\n",
      "  (43348, 90678)\t0.12965156487869992\n",
      "  (43348, 100529)\t0.07821851902099759\n",
      "  (43348, 24465)\t0.11799090064302646\n",
      "  (43348, 98298)\t0.09973376754071227\n",
      "  (43348, 32439)\t0.06544160856673804\n",
      "  (43348, 96972)\t0.2236034587628823\n",
      "  (43348, 98712)\t0.1617958300578202\n",
      "  (43348, 2838)\t0.09180080469068752\n",
      "  (43348, 3738)\t0.060337994494104874\n",
      "  (43348, 82495)\t0.11625129855063426\n",
      "  (43348, 98382)\t0.11361716641997278\n",
      "  (43349, 80195)\t0.4979654667698497\n",
      "  (43349, 1045)\t0.5076173826600388\n",
      "  (43349, 44634)\t0.31986747305797086\n",
      "  (43349, 65104)\t0.3174106079741754\n",
      "  (43349, 24465)\t0.34870242468585116\n",
      "  (43349, 98298)\t0.2947465132901911\n",
      "  (43349, 2838)\t0.2713019648913658\n",
      "  (43349, 57497)\t0.09600337555835044\n"
     ]
    }
   ],
   "source": [
    "print(X_test)"
   ]
  },
  {
   "cell_type": "markdown",
   "id": "7ed1bd12",
   "metadata": {},
   "source": [
    "## Training the Machine learning Model Using Logistic Regression"
   ]
  },
  {
   "cell_type": "code",
   "execution_count": 34,
   "id": "26626041",
   "metadata": {},
   "outputs": [],
   "source": [
    "model = LogisticRegression(max_iter = 1000)"
   ]
  },
  {
   "cell_type": "code",
   "execution_count": 35,
   "id": "681f885f",
   "metadata": {},
   "outputs": [
    {
     "data": {
      "text/plain": [
       "LogisticRegression(max_iter=1000)"
      ]
     },
     "execution_count": 35,
     "metadata": {},
     "output_type": "execute_result"
    }
   ],
   "source": [
    "model.fit(X_train,Y_train)"
   ]
  },
  {
   "cell_type": "markdown",
   "id": "53fd9afe",
   "metadata": {},
   "source": [
    "## Model Evaluation"
   ]
  },
  {
   "cell_type": "code",
   "execution_count": 36,
   "id": "6021f061",
   "metadata": {},
   "outputs": [],
   "source": [
    "# accuracy score on the training data\n",
    "X_train_prediction = model.predict(X_train) #giving only the tweet  for the model to find the values of the category\n",
    "training_data_accuracy = accuracy_score(Y_train,X_train_prediction)"
   ]
  },
  {
   "cell_type": "code",
   "execution_count": 37,
   "id": "617ffaf0",
   "metadata": {},
   "outputs": [
    {
     "name": "stdout",
     "output_type": "stream",
     "text": [
      "Accuracy On the Training Data: 0.9562679861819985\n"
     ]
    }
   ],
   "source": [
    "print('Accuracy On the Training Data:', training_data_accuracy)"
   ]
  },
  {
   "cell_type": "code",
   "execution_count": 38,
   "id": "2a7f9461",
   "metadata": {},
   "outputs": [],
   "source": [
    "# accuracy score on the test data\n",
    "X_test_prediction = model.predict(X_test) #giving only the tweet  for the model to find the values of the category\n",
    "test_data_accuracy = accuracy_score(Y_test,X_test_prediction)"
   ]
  },
  {
   "cell_type": "code",
   "execution_count": 39,
   "id": "681ec59a",
   "metadata": {
    "scrolled": true
   },
   "outputs": [
    {
     "name": "stdout",
     "output_type": "stream",
     "text": [
      "Accuracy On the Test Data: 0.9398385236447521\n"
     ]
    }
   ],
   "source": [
    "print('Accuracy On the Test Data:', test_data_accuracy)"
   ]
  },
  {
   "cell_type": "markdown",
   "id": "6592585b",
   "metadata": {},
   "source": [
    "## Saving thhe trained Model"
   ]
  },
  {
   "cell_type": "code",
   "execution_count": 40,
   "id": "25e6ae85",
   "metadata": {},
   "outputs": [],
   "source": [
    "import pickle\n",
    "filename = 'trainedtwiter_model.sav'\n",
    "pickle.dump(model,open(filename,'wb'))"
   ]
  },
  {
   "cell_type": "markdown",
   "id": "452c8a62",
   "metadata": {},
   "source": [
    "## Testing the model with a new data "
   ]
  },
  {
   "cell_type": "code",
   "execution_count": 41,
   "id": "98613f8e",
   "metadata": {},
   "outputs": [],
   "source": [
    "loaded_model = pickle.load(open('C:/Users/Oreva/trainedtwiter_model.sav','rb'))"
   ]
  },
  {
   "cell_type": "code",
   "execution_count": 42,
   "id": "6bbdb282",
   "metadata": {},
   "outputs": [
    {
     "name": "stdout",
     "output_type": "stream",
     "text": [
      "Actual label: -1.0\n",
      "Neutral Tweet\n"
     ]
    }
   ],
   "source": [
    "X_new = X_test.getrow(3).toarray()  # Extract the 4th row as a dense array\n",
    "actual_label = Y_test.iloc[3]   # Get the actual label\n",
    "\n",
    "print(\"Actual label:\", actual_label)\n",
    "\n",
    "prediction = loaded_model.predict(X_new)\n",
    "pred_value = int(prediction[0])  # Extract scalar value\n",
    "\n",
    "if pred_value == 0:\n",
    "    print('Negative Tweet')\n",
    "elif pred_value == 1:\n",
    "    print('Positive Tweet')\n",
    "else:\n",
    "    print('Neutral Tweet')"
   ]
  },
  {
   "cell_type": "code",
   "execution_count": 43,
   "id": "02f7ded2",
   "metadata": {},
   "outputs": [
    {
     "name": "stdout",
     "output_type": "stream",
     "text": [
      "Actual label: 1.0\n",
      "Positive Tweet\n"
     ]
    }
   ],
   "source": [
    "X_new = X_test.getrow(200).toarray()  # Extract the 4th row as a dense array\n",
    "actual_label = Y_test.iloc[200]   # Get the actual label\n",
    "\n",
    "print(\"Actual label:\", actual_label)\n",
    "\n",
    "prediction = loaded_model.predict(X_new)\n",
    "pred_value = int(prediction[0])  # Extract scalar value\n",
    "\n",
    "if pred_value == 0:\n",
    "    print('Negative Tweet')\n",
    "elif pred_value == 1:\n",
    "    print('Positive Tweet')\n",
    "else:\n",
    "    print('Neutral Tweet')"
   ]
  },
  {
   "cell_type": "markdown",
   "id": "aadaee91",
   "metadata": {},
   "source": [
    "## Conclusion\n",
    "\n",
    "The  model's accuracy:\n",
    "\n",
    "✅ Training Data: 95.63%\n",
    "\n",
    "✅ Test Data: 93.98%\n",
    "\n",
    "- This shows that the model is a good fit since the dfference between test and train data is slightly different.\n",
    "\n",
    "- The model predicted the new datas accurately thhere the sentiment analysis is successful.\n",
    "\n",
    "\n"
   ]
  }
 ],
 "metadata": {
  "kernelspec": {
   "display_name": "Python 3 (ipykernel)",
   "language": "python",
   "name": "python3"
  },
  "language_info": {
   "codemirror_mode": {
    "name": "ipython",
    "version": 3
   },
   "file_extension": ".py",
   "mimetype": "text/x-python",
   "name": "python",
   "nbconvert_exporter": "python",
   "pygments_lexer": "ipython3",
   "version": "3.9.12"
  }
 },
 "nbformat": 4,
 "nbformat_minor": 5
}
