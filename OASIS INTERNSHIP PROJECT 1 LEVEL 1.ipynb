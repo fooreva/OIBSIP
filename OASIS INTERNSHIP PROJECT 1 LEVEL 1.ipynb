{
 "cells": [
  {
   "cell_type": "markdown",
   "id": "49b82101",
   "metadata": {},
   "source": [
    "# EDA"
   ]
  },
  {
   "cell_type": "code",
   "execution_count": 1,
   "id": "76b5b3d6",
   "metadata": {},
   "outputs": [
    {
     "data": {
      "text/plain": [
       "'C:\\\\Users\\\\Oreva'"
      ]
     },
     "execution_count": 1,
     "metadata": {},
     "output_type": "execute_result"
    }
   ],
   "source": [
    "pwd"
   ]
  },
  {
   "cell_type": "code",
   "execution_count": 12,
   "id": "189ef95b",
   "metadata": {},
   "outputs": [],
   "source": [
    "import pandas as pd\n",
    "import matplotlib.pyplot as plt\n",
    "import seaborn as sns"
   ]
  },
  {
   "cell_type": "code",
   "execution_count": 3,
   "id": "1ad82b2a",
   "metadata": {},
   "outputs": [],
   "source": [
    "df = pd.read_csv('C:/Users/Oreva/Desktop/lecture/retail_sales.csv', header=0)"
   ]
  },
  {
   "cell_type": "code",
   "execution_count": 4,
   "id": "c6bb5588",
   "metadata": {},
   "outputs": [
    {
     "data": {
      "text/html": [
       "<div>\n",
       "<style scoped>\n",
       "    .dataframe tbody tr th:only-of-type {\n",
       "        vertical-align: middle;\n",
       "    }\n",
       "\n",
       "    .dataframe tbody tr th {\n",
       "        vertical-align: top;\n",
       "    }\n",
       "\n",
       "    .dataframe thead th {\n",
       "        text-align: right;\n",
       "    }\n",
       "</style>\n",
       "<table border=\"1\" class=\"dataframe\">\n",
       "  <thead>\n",
       "    <tr style=\"text-align: right;\">\n",
       "      <th></th>\n",
       "      <th>Transaction ID</th>\n",
       "      <th>Date</th>\n",
       "      <th>Customer ID</th>\n",
       "      <th>Gender</th>\n",
       "      <th>Age</th>\n",
       "      <th>Product Category</th>\n",
       "      <th>Quantity</th>\n",
       "      <th>Price per Unit</th>\n",
       "      <th>Total Amount</th>\n",
       "    </tr>\n",
       "  </thead>\n",
       "  <tbody>\n",
       "    <tr>\n",
       "      <th>0</th>\n",
       "      <td>1</td>\n",
       "      <td>11/24/2023</td>\n",
       "      <td>CUST001</td>\n",
       "      <td>Male</td>\n",
       "      <td>34</td>\n",
       "      <td>Beauty</td>\n",
       "      <td>3</td>\n",
       "      <td>50</td>\n",
       "      <td>150</td>\n",
       "    </tr>\n",
       "    <tr>\n",
       "      <th>1</th>\n",
       "      <td>2</td>\n",
       "      <td>2/27/2023</td>\n",
       "      <td>CUST002</td>\n",
       "      <td>Female</td>\n",
       "      <td>26</td>\n",
       "      <td>Clothing</td>\n",
       "      <td>2</td>\n",
       "      <td>500</td>\n",
       "      <td>1000</td>\n",
       "    </tr>\n",
       "    <tr>\n",
       "      <th>2</th>\n",
       "      <td>3</td>\n",
       "      <td>1/13/2023</td>\n",
       "      <td>CUST003</td>\n",
       "      <td>Male</td>\n",
       "      <td>50</td>\n",
       "      <td>Electronics</td>\n",
       "      <td>1</td>\n",
       "      <td>30</td>\n",
       "      <td>30</td>\n",
       "    </tr>\n",
       "    <tr>\n",
       "      <th>3</th>\n",
       "      <td>4</td>\n",
       "      <td>5/21/2023</td>\n",
       "      <td>CUST004</td>\n",
       "      <td>Male</td>\n",
       "      <td>37</td>\n",
       "      <td>Clothing</td>\n",
       "      <td>1</td>\n",
       "      <td>500</td>\n",
       "      <td>500</td>\n",
       "    </tr>\n",
       "    <tr>\n",
       "      <th>4</th>\n",
       "      <td>5</td>\n",
       "      <td>5/6/2023</td>\n",
       "      <td>CUST005</td>\n",
       "      <td>Male</td>\n",
       "      <td>30</td>\n",
       "      <td>Beauty</td>\n",
       "      <td>2</td>\n",
       "      <td>50</td>\n",
       "      <td>100</td>\n",
       "    </tr>\n",
       "  </tbody>\n",
       "</table>\n",
       "</div>"
      ],
      "text/plain": [
       "   Transaction ID        Date Customer ID  Gender  Age Product Category  \\\n",
       "0               1  11/24/2023     CUST001    Male   34           Beauty   \n",
       "1               2   2/27/2023     CUST002  Female   26         Clothing   \n",
       "2               3   1/13/2023     CUST003    Male   50      Electronics   \n",
       "3               4   5/21/2023     CUST004    Male   37         Clothing   \n",
       "4               5    5/6/2023     CUST005    Male   30           Beauty   \n",
       "\n",
       "   Quantity  Price per Unit  Total Amount  \n",
       "0         3              50           150  \n",
       "1         2             500          1000  \n",
       "2         1              30            30  \n",
       "3         1             500           500  \n",
       "4         2              50           100  "
      ]
     },
     "execution_count": 4,
     "metadata": {},
     "output_type": "execute_result"
    }
   ],
   "source": [
    "df.head()"
   ]
  },
  {
   "cell_type": "code",
   "execution_count": 5,
   "id": "297ca579",
   "metadata": {},
   "outputs": [
    {
     "data": {
      "text/plain": [
       "(1000, 9)"
      ]
     },
     "execution_count": 5,
     "metadata": {},
     "output_type": "execute_result"
    }
   ],
   "source": [
    "df.shape"
   ]
  },
  {
   "cell_type": "markdown",
   "id": "a521c4f2",
   "metadata": {},
   "source": [
    "### EDD"
   ]
  },
  {
   "cell_type": "code",
   "execution_count": 63,
   "id": "71c8a25f",
   "metadata": {},
   "outputs": [
    {
     "data": {
      "text/html": [
       "<div>\n",
       "<style scoped>\n",
       "    .dataframe tbody tr th:only-of-type {\n",
       "        vertical-align: middle;\n",
       "    }\n",
       "\n",
       "    .dataframe tbody tr th {\n",
       "        vertical-align: top;\n",
       "    }\n",
       "\n",
       "    .dataframe thead th {\n",
       "        text-align: right;\n",
       "    }\n",
       "</style>\n",
       "<table border=\"1\" class=\"dataframe\">\n",
       "  <thead>\n",
       "    <tr style=\"text-align: right;\">\n",
       "      <th></th>\n",
       "      <th>Transaction ID</th>\n",
       "      <th>Age</th>\n",
       "      <th>Quantity</th>\n",
       "      <th>Price per Unit</th>\n",
       "      <th>Total Amount</th>\n",
       "    </tr>\n",
       "  </thead>\n",
       "  <tbody>\n",
       "    <tr>\n",
       "      <th>count</th>\n",
       "      <td>1000.000000</td>\n",
       "      <td>1000.00000</td>\n",
       "      <td>1000.000000</td>\n",
       "      <td>1000.000000</td>\n",
       "      <td>1000.000000</td>\n",
       "    </tr>\n",
       "    <tr>\n",
       "      <th>mean</th>\n",
       "      <td>500.500000</td>\n",
       "      <td>41.39200</td>\n",
       "      <td>2.514000</td>\n",
       "      <td>179.890000</td>\n",
       "      <td>456.000000</td>\n",
       "    </tr>\n",
       "    <tr>\n",
       "      <th>std</th>\n",
       "      <td>288.819436</td>\n",
       "      <td>13.68143</td>\n",
       "      <td>1.132734</td>\n",
       "      <td>189.681356</td>\n",
       "      <td>559.997632</td>\n",
       "    </tr>\n",
       "    <tr>\n",
       "      <th>min</th>\n",
       "      <td>1.000000</td>\n",
       "      <td>18.00000</td>\n",
       "      <td>1.000000</td>\n",
       "      <td>25.000000</td>\n",
       "      <td>25.000000</td>\n",
       "    </tr>\n",
       "    <tr>\n",
       "      <th>25%</th>\n",
       "      <td>250.750000</td>\n",
       "      <td>29.00000</td>\n",
       "      <td>1.000000</td>\n",
       "      <td>30.000000</td>\n",
       "      <td>60.000000</td>\n",
       "    </tr>\n",
       "    <tr>\n",
       "      <th>50%</th>\n",
       "      <td>500.500000</td>\n",
       "      <td>42.00000</td>\n",
       "      <td>3.000000</td>\n",
       "      <td>50.000000</td>\n",
       "      <td>135.000000</td>\n",
       "    </tr>\n",
       "    <tr>\n",
       "      <th>75%</th>\n",
       "      <td>750.250000</td>\n",
       "      <td>53.00000</td>\n",
       "      <td>4.000000</td>\n",
       "      <td>300.000000</td>\n",
       "      <td>900.000000</td>\n",
       "    </tr>\n",
       "    <tr>\n",
       "      <th>max</th>\n",
       "      <td>1000.000000</td>\n",
       "      <td>64.00000</td>\n",
       "      <td>4.000000</td>\n",
       "      <td>500.000000</td>\n",
       "      <td>2000.000000</td>\n",
       "    </tr>\n",
       "  </tbody>\n",
       "</table>\n",
       "</div>"
      ],
      "text/plain": [
       "       Transaction ID         Age     Quantity  Price per Unit  Total Amount\n",
       "count     1000.000000  1000.00000  1000.000000     1000.000000   1000.000000\n",
       "mean       500.500000    41.39200     2.514000      179.890000    456.000000\n",
       "std        288.819436    13.68143     1.132734      189.681356    559.997632\n",
       "min          1.000000    18.00000     1.000000       25.000000     25.000000\n",
       "25%        250.750000    29.00000     1.000000       30.000000     60.000000\n",
       "50%        500.500000    42.00000     3.000000       50.000000    135.000000\n",
       "75%        750.250000    53.00000     4.000000      300.000000    900.000000\n",
       "max       1000.000000    64.00000     4.000000      500.000000   2000.000000"
      ]
     },
     "execution_count": 63,
     "metadata": {},
     "output_type": "execute_result"
    }
   ],
   "source": [
    "df.describe()"
   ]
  },
  {
   "cell_type": "markdown",
   "id": "fd0d8481",
   "metadata": {},
   "source": [
    "### Observation\n",
    "- There are no missing values\n",
    "- total amount and price per unit are negatively skewed because 75% are below 900 and 300 respectively\n",
    "- No customer purchased from more than one product category"
   ]
  },
  {
   "cell_type": "code",
   "execution_count": 25,
   "id": "fd171af2",
   "metadata": {},
   "outputs": [
    {
     "data": {
      "text/plain": [
       "[Text(0, 0, '490'), Text(0, 0, '510')]"
      ]
     },
     "execution_count": 25,
     "metadata": {},
     "output_type": "execute_result"
    },
    {
     "data": {
      "image/png": "[encoded data removed]",
      "text/plain": [
       "<Figure size 432x288 with 1 Axes>"
      ]
     },
     "metadata": {
      "needs_background": "light"
     },
     "output_type": "display_data"
    }
   ],
   "source": [
    "ax = sns.countplot(x='Gender',data=df)\n",
    "ax.bar_label(ax.containers[0])"
   ]
  },
  {
   "cell_type": "markdown",
   "id": "29e7a5b6",
   "metadata": {},
   "source": [
    "### Time series Analysis"
   ]
  },
  {
   "cell_type": "code",
   "execution_count": 30,
   "id": "b209e278",
   "metadata": {},
   "outputs": [],
   "source": [
    "df['Date'] = pd.to_datetime(df['Date'])"
   ]
  },
  {
   "cell_type": "code",
   "execution_count": 31,
   "id": "267b7b41",
   "metadata": {},
   "outputs": [],
   "source": [
    "df['year'] = df['Date'].dt.to_period('Y')"
   ]
  },
  {
   "cell_type": "code",
   "execution_count": 32,
   "id": "e26fe17a",
   "metadata": {},
   "outputs": [
    {
     "data": {
      "text/plain": [
       "<PeriodArray>\n",
       "['2023', '2024']\n",
       "Length: 2, dtype: period[A-DEC]"
      ]
     },
     "execution_count": 32,
     "metadata": {},
     "output_type": "execute_result"
    }
   ],
   "source": [
    "df['year'].unique()"
   ]
  },
  {
   "cell_type": "code",
   "execution_count": 70,
   "id": "98f10480",
   "metadata": {},
   "outputs": [],
   "source": [
    "df['Month_Year'] = df['Date'].dt.strftime('%Y-%m')"
   ]
  },
  {
   "cell_type": "code",
   "execution_count": 71,
   "id": "2f4a67d8",
   "metadata": {},
   "outputs": [
    {
     "data": {
      "text/plain": [
       "array(['2023-11', '2023-02', '2023-01', '2023-05', '2023-04', '2023-03',\n",
       "       '2023-12', '2023-10', '2023-08', '2023-09', '2023-06', '2023-07',\n",
       "       '2024-01'], dtype=object)"
      ]
     },
     "execution_count": 71,
     "metadata": {},
     "output_type": "execute_result"
    }
   ],
   "source": [
    "df['Month_Year'].unique()"
   ]
  },
  {
   "cell_type": "code",
   "execution_count": 97,
   "id": "51ae1f89",
   "metadata": {},
   "outputs": [],
   "source": [
    "# grouping sales by month"
   ]
  },
  {
   "cell_type": "code",
   "execution_count": 49,
   "id": "7e084b47",
   "metadata": {},
   "outputs": [],
   "source": [
    "result = df.groupby('Month_Year').sum()"
   ]
  },
  {
   "cell_type": "markdown",
   "id": "dcdddb49",
   "metadata": {},
   "source": [
    "--- to arrange in order and save unque value"
   ]
  },
  {
   "cell_type": "code",
   "execution_count": 76,
   "id": "2e7de7d6",
   "metadata": {},
   "outputs": [],
   "source": [
    "Months  = [month for month,df in df.groupby('Month_Year')]"
   ]
  },
  {
   "cell_type": "code",
   "execution_count": 77,
   "id": "d7ccd913",
   "metadata": {},
   "outputs": [
    {
     "name": "stdout",
     "output_type": "stream",
     "text": [
      "['2023-01', '2023-02', '2023-03', '2023-04', '2023-05', '2023-06', '2023-07', '2023-08', '2023-09', '2023-10', '2023-11', '2023-12', '2024-01']\n"
     ]
    }
   ],
   "source": [
    "print(Months)"
   ]
  },
  {
   "cell_type": "markdown",
   "id": "acd791c8",
   "metadata": {},
   "source": [
    "### Overall Sales Trend"
   ]
  },
  {
   "cell_type": "code",
   "execution_count": 78,
   "id": "88c76146",
   "metadata": {},
   "outputs": [
    {
     "data": {
      "text/plain": [
       "Text(0.5, 0, 'Months')"
      ]
     },
     "execution_count": 78,
     "metadata": {},
     "output_type": "execute_result"
    },
    {
     "data": {
      "image/png": "[encoded data removed]",
      "text/plain": [
       "<Figure size 1080x360 with 1 Axes>"
      ]
     },
     "metadata": {
      "needs_background": "light"
     },
     "output_type": "display_data"
    }
   ],
   "source": [
    "plt.figure(figsize=(15,5))\n",
    "plt.plot(Months,result['Total Amount'],color = 'r')\n",
    "plt.xticks(Months,rotation='vertical',size= 10)\n",
    "plt.ylabel('Total Sales',size = 15,c='r')\n",
    "plt.xlabel('Months',size=15,c='r')"
   ]
  },
  {
   "cell_type": "code",
   "execution_count": 63,
   "id": "26decc77",
   "metadata": {},
   "outputs": [
    {
     "data": {
      "text/plain": [
       "Month_Year\n",
       "2023-01    35450\n",
       "2023-02    44060\n",
       "2023-03    28990\n",
       "2023-04    33870\n",
       "2023-05    53150\n",
       "2023-06    36715\n",
       "2023-07    35465\n",
       "2023-08    36960\n",
       "2023-09    23620\n",
       "2023-10    46580\n",
       "2023-11    34920\n",
       "2023-12    44690\n",
       "2024-01     1530\n",
       "Name: Total Amount, dtype: int64"
      ]
     },
     "execution_count": 63,
     "metadata": {},
     "output_type": "execute_result"
    }
   ],
   "source": [
    "result['Total Amount']"
   ]
  },
  {
   "cell_type": "code",
   "execution_count": 79,
   "id": "c096be61",
   "metadata": {},
   "outputs": [],
   "source": [
    "sales_by_year =df.groupby('year')['Total Amount'].sum()"
   ]
  },
  {
   "cell_type": "code",
   "execution_count": 80,
   "id": "c6915365",
   "metadata": {},
   "outputs": [
    {
     "name": "stdout",
     "output_type": "stream",
     "text": [
      "year\n",
      "2023    454470\n",
      "2024      1530\n",
      "Freq: A-DEC, Name: Total Amount, dtype: int64\n"
     ]
    }
   ],
   "source": [
    "print(sales_by_year)"
   ]
  },
  {
   "cell_type": "markdown",
   "id": "179ef813",
   "metadata": {},
   "source": [
    "### Observation\n",
    "- Sales fluctuate over time, with the peak and decline occurring Progressively.\n",
    "- There was more sales in 2023 than 2024 as only sales of january was recorded for 2024\n"
   ]
  },
  {
   "cell_type": "markdown",
   "id": "4ae834a4",
   "metadata": {},
   "source": [
    "### Product Analysis"
   ]
  },
  {
   "cell_type": "code",
   "execution_count": 86,
   "id": "3c78d947",
   "metadata": {},
   "outputs": [],
   "source": [
    "prod_sales = df.groupby('Product Category').sum()[['Quantity','Total Amount']]"
   ]
  },
  {
   "cell_type": "code",
   "execution_count": 87,
   "id": "d57da01c",
   "metadata": {},
   "outputs": [
    {
     "data": {
      "text/html": [
       "<div>\n",
       "<style scoped>\n",
       "    .dataframe tbody tr th:only-of-type {\n",
       "        vertical-align: middle;\n",
       "    }\n",
       "\n",
       "    .dataframe tbody tr th {\n",
       "        vertical-align: top;\n",
       "    }\n",
       "\n",
       "    .dataframe thead th {\n",
       "        text-align: right;\n",
       "    }\n",
       "</style>\n",
       "<table border=\"1\" class=\"dataframe\">\n",
       "  <thead>\n",
       "    <tr style=\"text-align: right;\">\n",
       "      <th></th>\n",
       "      <th>Quantity</th>\n",
       "      <th>Total Amount</th>\n",
       "    </tr>\n",
       "    <tr>\n",
       "      <th>Product Category</th>\n",
       "      <th></th>\n",
       "      <th></th>\n",
       "    </tr>\n",
       "  </thead>\n",
       "  <tbody>\n",
       "    <tr>\n",
       "      <th>Beauty</th>\n",
       "      <td>771</td>\n",
       "      <td>143515</td>\n",
       "    </tr>\n",
       "    <tr>\n",
       "      <th>Clothing</th>\n",
       "      <td>894</td>\n",
       "      <td>155580</td>\n",
       "    </tr>\n",
       "    <tr>\n",
       "      <th>Electronics</th>\n",
       "      <td>849</td>\n",
       "      <td>156905</td>\n",
       "    </tr>\n",
       "  </tbody>\n",
       "</table>\n",
       "</div>"
      ],
      "text/plain": [
       "                  Quantity  Total Amount\n",
       "Product Category                        \n",
       "Beauty                 771        143515\n",
       "Clothing               894        155580\n",
       "Electronics            849        156905"
      ]
     },
     "execution_count": 87,
     "metadata": {},
     "output_type": "execute_result"
    }
   ],
   "source": [
    "prod_sales.head()"
   ]
  },
  {
   "cell_type": "code",
   "execution_count": 95,
   "id": "2495a8df",
   "metadata": {},
   "outputs": [],
   "source": [
    "prod_sales.sort_values(by=['Total Amount'],inplace=True,ascending=False)"
   ]
  },
  {
   "cell_type": "code",
   "execution_count": 96,
   "id": "325c78fb",
   "metadata": {
    "scrolled": true
   },
   "outputs": [
    {
     "data": {
      "text/html": [
       "<div>\n",
       "<style scoped>\n",
       "    .dataframe tbody tr th:only-of-type {\n",
       "        vertical-align: middle;\n",
       "    }\n",
       "\n",
       "    .dataframe tbody tr th {\n",
       "        vertical-align: top;\n",
       "    }\n",
       "\n",
       "    .dataframe thead th {\n",
       "        text-align: right;\n",
       "    }\n",
       "</style>\n",
       "<table border=\"1\" class=\"dataframe\">\n",
       "  <thead>\n",
       "    <tr style=\"text-align: right;\">\n",
       "      <th></th>\n",
       "      <th>Quantity</th>\n",
       "      <th>Total Amount</th>\n",
       "    </tr>\n",
       "    <tr>\n",
       "      <th>Product Category</th>\n",
       "      <th></th>\n",
       "      <th></th>\n",
       "    </tr>\n",
       "  </thead>\n",
       "  <tbody>\n",
       "    <tr>\n",
       "      <th>Electronics</th>\n",
       "      <td>849</td>\n",
       "      <td>156905</td>\n",
       "    </tr>\n",
       "    <tr>\n",
       "      <th>Clothing</th>\n",
       "      <td>894</td>\n",
       "      <td>155580</td>\n",
       "    </tr>\n",
       "    <tr>\n",
       "      <th>Beauty</th>\n",
       "      <td>771</td>\n",
       "      <td>143515</td>\n",
       "    </tr>\n",
       "  </tbody>\n",
       "</table>\n",
       "</div>"
      ],
      "text/plain": [
       "                  Quantity  Total Amount\n",
       "Product Category                        \n",
       "Electronics            849        156905\n",
       "Clothing               894        155580\n",
       "Beauty                 771        143515"
      ]
     },
     "execution_count": 96,
     "metadata": {},
     "output_type": "execute_result"
    }
   ],
   "source": [
    "prod_sales.head()"
   ]
  },
  {
   "cell_type": "code",
   "execution_count": 98,
   "id": "12105b25",
   "metadata": {},
   "outputs": [],
   "source": [
    "category_count = df[\"Product Category\"].value_counts()"
   ]
  },
  {
   "cell_type": "code",
   "execution_count": 135,
   "id": "78a86148",
   "metadata": {},
   "outputs": [
    {
     "data": {
      "text/plain": [
       "Text(0.5, 1.0, 'Count of orders by product category')"
      ]
     },
     "execution_count": 135,
     "metadata": {},
     "output_type": "execute_result"
    },
    {
     "data": {
      "image/png": "[encoded data removed]",
      "text/plain": [
       "<Figure size 720x360 with 1 Axes>"
      ]
     },
     "metadata": {},
     "output_type": "display_data"
    }
   ],
   "source": [
    "plt.figure(figsize=(10,5))\n",
    "ex = (0,0.1,0)\n",
    "category_count.plot.pie(autopct='%.2f%%',startangle = 70,explode=ex)\n",
    "plt.title('Count of orders by product category', fontsize=12)"
   ]
  },
  {
   "cell_type": "code",
   "execution_count": 124,
   "id": "bc48e7e1",
   "metadata": {},
   "outputs": [
    {
     "data": {
      "image/png": "[encoded data removed]",
      "text/plain": [
       "<Figure size 648x360 with 1 Axes>"
      ]
     },
     "metadata": {
      "needs_background": "light"
     },
     "output_type": "display_data"
    }
   ],
   "source": [
    "plt.figure(figsize=(9, 5))\n",
    "product_sales.sort_values(ascending=False).plot(kind='bar', color='skyblue', edgecolor='black')\n",
    "plt.title('Total Sales by Product Category', fontsize=16)\n",
    "plt.xlabel('Product Category', fontsize=12)\n",
    "plt.ylabel('Total Sales', fontsize=12)\n",
    "plt.xticks(rotation=45, fontsize=10)\n",
    "plt.grid(axis='y', linestyle='--', alpha=0.6)\n",
    "plt.tight_layout()\n",
    "\n"
   ]
  },
  {
   "cell_type": "markdown",
   "id": "13640866",
   "metadata": {},
   "source": [
    "### Observation\n",
    "- Electronics has the most sales.\n",
    "- Electronics is also the most sold product."
   ]
  },
  {
   "cell_type": "markdown",
   "id": "6efd3c13",
   "metadata": {},
   "source": [
    "### Customer Analysis"
   ]
  },
  {
   "cell_type": "code",
   "execution_count": 137,
   "id": "d82ac451",
   "metadata": {},
   "outputs": [],
   "source": [
    "Cus_sales = df.groupby('Customer ID').sum()[['Quantity','Total Amount']]"
   ]
  },
  {
   "cell_type": "code",
   "execution_count": 141,
   "id": "ee5d91fe",
   "metadata": {},
   "outputs": [
    {
     "data": {
      "text/html": [
       "<div>\n",
       "<style scoped>\n",
       "    .dataframe tbody tr th:only-of-type {\n",
       "        vertical-align: middle;\n",
       "    }\n",
       "\n",
       "    .dataframe tbody tr th {\n",
       "        vertical-align: top;\n",
       "    }\n",
       "\n",
       "    .dataframe thead th {\n",
       "        text-align: right;\n",
       "    }\n",
       "</style>\n",
       "<table border=\"1\" class=\"dataframe\">\n",
       "  <thead>\n",
       "    <tr style=\"text-align: right;\">\n",
       "      <th></th>\n",
       "      <th>Quantity</th>\n",
       "      <th>Total Amount</th>\n",
       "    </tr>\n",
       "    <tr>\n",
       "      <th>Customer ID</th>\n",
       "      <th></th>\n",
       "      <th></th>\n",
       "    </tr>\n",
       "  </thead>\n",
       "  <tbody>\n",
       "    <tr>\n",
       "      <th>CUST487</th>\n",
       "      <td>4</td>\n",
       "      <td>2000</td>\n",
       "    </tr>\n",
       "    <tr>\n",
       "      <th>CUST476</th>\n",
       "      <td>4</td>\n",
       "      <td>2000</td>\n",
       "    </tr>\n",
       "    <tr>\n",
       "      <th>CUST773</th>\n",
       "      <td>4</td>\n",
       "      <td>2000</td>\n",
       "    </tr>\n",
       "    <tr>\n",
       "      <th>CUST503</th>\n",
       "      <td>4</td>\n",
       "      <td>2000</td>\n",
       "    </tr>\n",
       "    <tr>\n",
       "      <th>CUST093</th>\n",
       "      <td>4</td>\n",
       "      <td>2000</td>\n",
       "    </tr>\n",
       "    <tr>\n",
       "      <th>...</th>\n",
       "      <td>...</td>\n",
       "      <td>...</td>\n",
       "    </tr>\n",
       "    <tr>\n",
       "      <th>CUST309</th>\n",
       "      <td>1</td>\n",
       "      <td>25</td>\n",
       "    </tr>\n",
       "    <tr>\n",
       "      <th>CUST907</th>\n",
       "      <td>1</td>\n",
       "      <td>25</td>\n",
       "    </tr>\n",
       "    <tr>\n",
       "      <th>CUST285</th>\n",
       "      <td>1</td>\n",
       "      <td>25</td>\n",
       "    </tr>\n",
       "    <tr>\n",
       "      <th>CUST242</th>\n",
       "      <td>1</td>\n",
       "      <td>25</td>\n",
       "    </tr>\n",
       "    <tr>\n",
       "      <th>CUST657</th>\n",
       "      <td>1</td>\n",
       "      <td>25</td>\n",
       "    </tr>\n",
       "  </tbody>\n",
       "</table>\n",
       "<p>1000 rows × 2 columns</p>\n",
       "</div>"
      ],
      "text/plain": [
       "             Quantity  Total Amount\n",
       "Customer ID                        \n",
       "CUST487             4          2000\n",
       "CUST476             4          2000\n",
       "CUST773             4          2000\n",
       "CUST503             4          2000\n",
       "CUST093             4          2000\n",
       "...               ...           ...\n",
       "CUST309             1            25\n",
       "CUST907             1            25\n",
       "CUST285             1            25\n",
       "CUST242             1            25\n",
       "CUST657             1            25\n",
       "\n",
       "[1000 rows x 2 columns]"
      ]
     },
     "execution_count": 141,
     "metadata": {},
     "output_type": "execute_result"
    }
   ],
   "source": [
    "Cus_sales.sort_values(by='Total Amount',ascending=False )"
   ]
  },
  {
   "cell_type": "code",
   "execution_count": 142,
   "id": "e6e931df",
   "metadata": {},
   "outputs": [
    {
     "name": "stdout",
     "output_type": "stream",
     "text": [
      "             Quantity  Total Amount\n",
      "Customer ID                        \n",
      "CUST001             3           150\n",
      "CUST002             2          1000\n",
      "CUST003             1            30\n",
      "CUST004             1           500\n",
      "CUST005             2           100\n",
      "...               ...           ...\n",
      "CUST995             1            30\n",
      "CUST996             1            50\n",
      "CUST997             3            90\n",
      "CUST998             4           100\n",
      "CUST999             3           150\n",
      "\n",
      "[1000 rows x 2 columns]\n"
     ]
    }
   ],
   "source": [
    "print(Cus_sales)"
   ]
  },
  {
   "cell_type": "markdown",
   "id": "c01fda20",
   "metadata": {},
   "source": [
    "### Observation\n",
    "- There is no returning customer"
   ]
  },
  {
   "cell_type": "markdown",
   "id": "ab87f70e",
   "metadata": {},
   "source": [
    "### Overall Recommendation\n",
    "- The store should focus on customer satisfaction because overtime there was no history of returning customers\n",
    "- ncreased knowledge of product availability and excellent customer service are necessary to boost sales and prevent fluctuations."
   ]
  }
 ],
 "metadata": {
  "kernelspec": {
   "display_name": "Python 3 (ipykernel)",
   "language": "python",
   "name": "python3"
  },
  "language_info": {
   "codemirror_mode": {
    "name": "ipython",
    "version": 3
   },
   "file_extension": ".py",
   "mimetype": "text/x-python",
   "name": "python",
   "nbconvert_exporter": "python",
   "pygments_lexer": "ipython3",
   "version": "3.9.12"
  }
 },
 "nbformat": 4,
 "nbformat_minor": 5
}
