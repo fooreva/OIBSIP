{
 "cells": [
  {
   "cell_type": "markdown",
   "id": "9dbdb4a2",
   "metadata": {},
   "source": [
    "# DATA CLEANING\n"
   ]
  },
  {
   "cell_type": "markdown",
   "id": "8938069b",
   "metadata": {},
   "source": [
    "### STEPS:\n",
    "1. check for missing data\n",
    "2. check for duplicates\n",
    "3. check data type\n",
    "4. outlier verification and treatment\n"
   ]
  },
  {
   "cell_type": "code",
   "execution_count": 130,
   "id": "63f2f0d5",
   "metadata": {},
   "outputs": [],
   "source": [
    "import pandas as pd\n",
    "import seaborn as sns\n",
    "import numpy as np\n",
    "import matplotlib.pyplot as plt"
   ]
  },
  {
   "cell_type": "code",
   "execution_count": 131,
   "id": "d8a21450",
   "metadata": {},
   "outputs": [],
   "source": [
    "df = pd.read_csv('C:/Users/Oreva/Desktop/lecture/NYC.csv', header=0)"
   ]
  },
  {
   "cell_type": "code",
   "execution_count": 132,
   "id": "a0e4c0bc",
   "metadata": {},
   "outputs": [
    {
     "data": {
      "text/html": [
       "<div>\n",
       "<style scoped>\n",
       "    .dataframe tbody tr th:only-of-type {\n",
       "        vertical-align: middle;\n",
       "    }\n",
       "\n",
       "    .dataframe tbody tr th {\n",
       "        vertical-align: top;\n",
       "    }\n",
       "\n",
       "    .dataframe thead th {\n",
       "        text-align: right;\n",
       "    }\n",
       "</style>\n",
       "<table border=\"1\" class=\"dataframe\">\n",
       "  <thead>\n",
       "    <tr style=\"text-align: right;\">\n",
       "      <th></th>\n",
       "      <th>id</th>\n",
       "      <th>name</th>\n",
       "      <th>host_id</th>\n",
       "      <th>host_name</th>\n",
       "      <th>neighbourhood_group</th>\n",
       "      <th>neighbourhood</th>\n",
       "      <th>latitude</th>\n",
       "      <th>longitude</th>\n",
       "      <th>room_type</th>\n",
       "      <th>price</th>\n",
       "      <th>minimum_nights</th>\n",
       "      <th>number_of_reviews</th>\n",
       "      <th>last_review</th>\n",
       "      <th>reviews_per_month</th>\n",
       "      <th>calculated_host_listings_count</th>\n",
       "      <th>availability_365</th>\n",
       "    </tr>\n",
       "  </thead>\n",
       "  <tbody>\n",
       "    <tr>\n",
       "      <th>0</th>\n",
       "      <td>2539</td>\n",
       "      <td>Clean &amp; quiet apt home by the park</td>\n",
       "      <td>2787</td>\n",
       "      <td>John</td>\n",
       "      <td>Brooklyn</td>\n",
       "      <td>Kensington</td>\n",
       "      <td>40.64749</td>\n",
       "      <td>-73.97237</td>\n",
       "      <td>Private room</td>\n",
       "      <td>149</td>\n",
       "      <td>1</td>\n",
       "      <td>9</td>\n",
       "      <td>2018-10-19</td>\n",
       "      <td>0.21</td>\n",
       "      <td>6</td>\n",
       "      <td>365</td>\n",
       "    </tr>\n",
       "    <tr>\n",
       "      <th>1</th>\n",
       "      <td>2595</td>\n",
       "      <td>Skylit Midtown Castle</td>\n",
       "      <td>2845</td>\n",
       "      <td>Jennifer</td>\n",
       "      <td>Manhattan</td>\n",
       "      <td>Midtown</td>\n",
       "      <td>40.75362</td>\n",
       "      <td>-73.98377</td>\n",
       "      <td>Entire home/apt</td>\n",
       "      <td>225</td>\n",
       "      <td>1</td>\n",
       "      <td>45</td>\n",
       "      <td>2019-05-21</td>\n",
       "      <td>0.38</td>\n",
       "      <td>2</td>\n",
       "      <td>355</td>\n",
       "    </tr>\n",
       "    <tr>\n",
       "      <th>2</th>\n",
       "      <td>3647</td>\n",
       "      <td>THE VILLAGE OF HARLEM....NEW YORK !</td>\n",
       "      <td>4632</td>\n",
       "      <td>Elisabeth</td>\n",
       "      <td>Manhattan</td>\n",
       "      <td>Harlem</td>\n",
       "      <td>40.80902</td>\n",
       "      <td>-73.94190</td>\n",
       "      <td>Private room</td>\n",
       "      <td>150</td>\n",
       "      <td>3</td>\n",
       "      <td>0</td>\n",
       "      <td>NaN</td>\n",
       "      <td>NaN</td>\n",
       "      <td>1</td>\n",
       "      <td>365</td>\n",
       "    </tr>\n",
       "    <tr>\n",
       "      <th>3</th>\n",
       "      <td>3831</td>\n",
       "      <td>Cozy Entire Floor of Brownstone</td>\n",
       "      <td>4869</td>\n",
       "      <td>LisaRoxanne</td>\n",
       "      <td>Brooklyn</td>\n",
       "      <td>Clinton Hill</td>\n",
       "      <td>40.68514</td>\n",
       "      <td>-73.95976</td>\n",
       "      <td>Entire home/apt</td>\n",
       "      <td>89</td>\n",
       "      <td>1</td>\n",
       "      <td>270</td>\n",
       "      <td>2019-07-05</td>\n",
       "      <td>4.64</td>\n",
       "      <td>1</td>\n",
       "      <td>194</td>\n",
       "    </tr>\n",
       "    <tr>\n",
       "      <th>4</th>\n",
       "      <td>5022</td>\n",
       "      <td>Entire Apt: Spacious Studio/Loft by central park</td>\n",
       "      <td>7192</td>\n",
       "      <td>Laura</td>\n",
       "      <td>Manhattan</td>\n",
       "      <td>East Harlem</td>\n",
       "      <td>40.79851</td>\n",
       "      <td>-73.94399</td>\n",
       "      <td>Entire home/apt</td>\n",
       "      <td>80</td>\n",
       "      <td>10</td>\n",
       "      <td>9</td>\n",
       "      <td>2018-11-19</td>\n",
       "      <td>0.10</td>\n",
       "      <td>1</td>\n",
       "      <td>0</td>\n",
       "    </tr>\n",
       "  </tbody>\n",
       "</table>\n",
       "</div>"
      ],
      "text/plain": [
       "     id                                              name  host_id  \\\n",
       "0  2539                Clean & quiet apt home by the park     2787   \n",
       "1  2595                             Skylit Midtown Castle     2845   \n",
       "2  3647               THE VILLAGE OF HARLEM....NEW YORK !     4632   \n",
       "3  3831                   Cozy Entire Floor of Brownstone     4869   \n",
       "4  5022  Entire Apt: Spacious Studio/Loft by central park     7192   \n",
       "\n",
       "     host_name neighbourhood_group neighbourhood  latitude  longitude  \\\n",
       "0         John            Brooklyn    Kensington  40.64749  -73.97237   \n",
       "1     Jennifer           Manhattan       Midtown  40.75362  -73.98377   \n",
       "2    Elisabeth           Manhattan        Harlem  40.80902  -73.94190   \n",
       "3  LisaRoxanne            Brooklyn  Clinton Hill  40.68514  -73.95976   \n",
       "4        Laura           Manhattan   East Harlem  40.79851  -73.94399   \n",
       "\n",
       "         room_type  price  minimum_nights  number_of_reviews last_review  \\\n",
       "0     Private room    149               1                  9  2018-10-19   \n",
       "1  Entire home/apt    225               1                 45  2019-05-21   \n",
       "2     Private room    150               3                  0         NaN   \n",
       "3  Entire home/apt     89               1                270  2019-07-05   \n",
       "4  Entire home/apt     80              10                  9  2018-11-19   \n",
       "\n",
       "   reviews_per_month  calculated_host_listings_count  availability_365  \n",
       "0               0.21                               6               365  \n",
       "1               0.38                               2               355  \n",
       "2                NaN                               1               365  \n",
       "3               4.64                               1               194  \n",
       "4               0.10                               1                 0  "
      ]
     },
     "execution_count": 132,
     "metadata": {},
     "output_type": "execute_result"
    }
   ],
   "source": [
    "df.head()"
   ]
  },
  {
   "cell_type": "code",
   "execution_count": 133,
   "id": "58b4aa52",
   "metadata": {},
   "outputs": [
    {
     "name": "stdout",
     "output_type": "stream",
     "text": [
      "<class 'pandas.core.frame.DataFrame'>\n",
      "RangeIndex: 48895 entries, 0 to 48894\n",
      "Data columns (total 16 columns):\n",
      " #   Column                          Non-Null Count  Dtype  \n",
      "---  ------                          --------------  -----  \n",
      " 0   id                              48895 non-null  int64  \n",
      " 1   name                            48879 non-null  object \n",
      " 2   host_id                         48895 non-null  int64  \n",
      " 3   host_name                       48874 non-null  object \n",
      " 4   neighbourhood_group             48895 non-null  object \n",
      " 5   neighbourhood                   48895 non-null  object \n",
      " 6   latitude                        48895 non-null  float64\n",
      " 7   longitude                       48895 non-null  float64\n",
      " 8   room_type                       48895 non-null  object \n",
      " 9   price                           48895 non-null  int64  \n",
      " 10  minimum_nights                  48895 non-null  int64  \n",
      " 11  number_of_reviews               48895 non-null  int64  \n",
      " 12  last_review                     38843 non-null  object \n",
      " 13  reviews_per_month               38843 non-null  float64\n",
      " 14  calculated_host_listings_count  48895 non-null  int64  \n",
      " 15  availability_365                48895 non-null  int64  \n",
      "dtypes: float64(3), int64(7), object(6)\n",
      "memory usage: 6.0+ MB\n"
     ]
    }
   ],
   "source": [
    "df.info()"
   ]
  },
  {
   "cell_type": "code",
   "execution_count": 134,
   "id": "146f3e59",
   "metadata": {},
   "outputs": [],
   "source": [
    "df[\"id\"] = df[\"id\"].astype(str)  # Convert ID to string  \n",
    "df[\"host_id\"] = df[\"host_id\"].astype(str)  # Convert host_id to string  \n",
    "df[\"last_review\"] = pd.to_datetime(df[\"last_review\"])  # Convert to date  \n"
   ]
  },
  {
   "cell_type": "code",
   "execution_count": 135,
   "id": "d48a6ae4",
   "metadata": {},
   "outputs": [
    {
     "name": "stdout",
     "output_type": "stream",
     "text": [
      "<class 'pandas.core.frame.DataFrame'>\n",
      "RangeIndex: 48895 entries, 0 to 48894\n",
      "Data columns (total 16 columns):\n",
      " #   Column                          Non-Null Count  Dtype         \n",
      "---  ------                          --------------  -----         \n",
      " 0   id                              48895 non-null  object        \n",
      " 1   name                            48879 non-null  object        \n",
      " 2   host_id                         48895 non-null  object        \n",
      " 3   host_name                       48874 non-null  object        \n",
      " 4   neighbourhood_group             48895 non-null  object        \n",
      " 5   neighbourhood                   48895 non-null  object        \n",
      " 6   latitude                        48895 non-null  float64       \n",
      " 7   longitude                       48895 non-null  float64       \n",
      " 8   room_type                       48895 non-null  object        \n",
      " 9   price                           48895 non-null  int64         \n",
      " 10  minimum_nights                  48895 non-null  int64         \n",
      " 11  number_of_reviews               48895 non-null  int64         \n",
      " 12  last_review                     38843 non-null  datetime64[ns]\n",
      " 13  reviews_per_month               38843 non-null  float64       \n",
      " 14  calculated_host_listings_count  48895 non-null  int64         \n",
      " 15  availability_365                48895 non-null  int64         \n",
      "dtypes: datetime64[ns](1), float64(3), int64(5), object(7)\n",
      "memory usage: 6.0+ MB\n"
     ]
    }
   ],
   "source": [
    "df.info()"
   ]
  },
  {
   "cell_type": "code",
   "execution_count": 137,
   "id": "5a2efc80",
   "metadata": {},
   "outputs": [
    {
     "data": {
      "text/plain": [
       "(48895, 16)"
      ]
     },
     "execution_count": 137,
     "metadata": {},
     "output_type": "execute_result"
    }
   ],
   "source": [
    "df.shape"
   ]
  },
  {
   "cell_type": "code",
   "execution_count": 138,
   "id": "c39a9d80",
   "metadata": {
    "scrolled": true
   },
   "outputs": [
    {
     "data": {
      "text/plain": [
       "id                                48895\n",
       "name                              47905\n",
       "host_id                           37457\n",
       "host_name                         11452\n",
       "neighbourhood_group                   5\n",
       "neighbourhood                       221\n",
       "latitude                          19048\n",
       "longitude                         14718\n",
       "room_type                             3\n",
       "price                               674\n",
       "minimum_nights                      109\n",
       "number_of_reviews                   394\n",
       "last_review                        1764\n",
       "reviews_per_month                   937\n",
       "calculated_host_listings_count       47\n",
       "availability_365                    366\n",
       "dtype: int64"
      ]
     },
     "execution_count": 138,
     "metadata": {},
     "output_type": "execute_result"
    }
   ],
   "source": [
    "df.nunique()"
   ]
  },
  {
   "cell_type": "code",
   "execution_count": 139,
   "id": "9510f1e0",
   "metadata": {},
   "outputs": [
    {
     "name": "stdout",
     "output_type": "stream",
     "text": [
      "<class 'pandas.core.frame.DataFrame'>\n",
      "RangeIndex: 48895 entries, 0 to 48894\n",
      "Data columns (total 16 columns):\n",
      " #   Column                          Non-Null Count  Dtype         \n",
      "---  ------                          --------------  -----         \n",
      " 0   id                              48895 non-null  object        \n",
      " 1   name                            48879 non-null  object        \n",
      " 2   host_id                         48895 non-null  object        \n",
      " 3   host_name                       48874 non-null  object        \n",
      " 4   neighbourhood_group             48895 non-null  object        \n",
      " 5   neighbourhood                   48895 non-null  object        \n",
      " 6   latitude                        48895 non-null  float64       \n",
      " 7   longitude                       48895 non-null  float64       \n",
      " 8   room_type                       48895 non-null  object        \n",
      " 9   price                           48895 non-null  int64         \n",
      " 10  minimum_nights                  48895 non-null  int64         \n",
      " 11  number_of_reviews               48895 non-null  int64         \n",
      " 12  last_review                     38843 non-null  datetime64[ns]\n",
      " 13  reviews_per_month               38843 non-null  float64       \n",
      " 14  calculated_host_listings_count  48895 non-null  int64         \n",
      " 15  availability_365                48895 non-null  int64         \n",
      "dtypes: datetime64[ns](1), float64(3), int64(5), object(7)\n",
      "memory usage: 6.0+ MB\n"
     ]
    }
   ],
   "source": [
    "# check for missing values\n",
    "df.info()"
   ]
  },
  {
   "cell_type": "code",
   "execution_count": 140,
   "id": "52448d3e",
   "metadata": {
    "scrolled": false
   },
   "outputs": [
    {
     "name": "stdout",
     "output_type": "stream",
     "text": [
      "id                                    0\n",
      "name                                 16\n",
      "host_id                               0\n",
      "host_name                            21\n",
      "neighbourhood_group                   0\n",
      "neighbourhood                         0\n",
      "latitude                              0\n",
      "longitude                             0\n",
      "room_type                             0\n",
      "price                                 0\n",
      "minimum_nights                        0\n",
      "number_of_reviews                     0\n",
      "last_review                       10052\n",
      "reviews_per_month                 10052\n",
      "calculated_host_listings_count        0\n",
      "availability_365                      0\n",
      "dtype: int64\n"
     ]
    }
   ],
   "source": [
    "# count no of missing values\n",
    "print(df.isnull().sum())"
   ]
  },
  {
   "cell_type": "code",
   "execution_count": 141,
   "id": "9f5818b6",
   "metadata": {},
   "outputs": [
    {
     "data": {
      "text/plain": [
       "(48895, 16)"
      ]
     },
     "execution_count": 141,
     "metadata": {},
     "output_type": "execute_result"
    }
   ],
   "source": [
    "# handle duplicates\n",
    "df = df.drop_duplicates()\n",
    "df.shape"
   ]
  },
  {
   "cell_type": "code",
   "execution_count": 142,
   "id": "b4bd55e5",
   "metadata": {
    "scrolled": false
   },
   "outputs": [
    {
     "data": {
      "text/plain": [
       "<AxesSubplot:ylabel='price'>"
      ]
     },
     "execution_count": 142,
     "metadata": {},
     "output_type": "execute_result"
    },
    {
     "data": {
      "image/png": "[encoded data removed]",
      "text/plain": [
       "<Figure size 864x576 with 1 Axes>"
      ]
     },
     "metadata": {
      "needs_background": "light"
     },
     "output_type": "display_data"
    }
   ],
   "source": [
    "plt.figure(figsize=(12,8))\n",
    "sns.boxplot(y='price',data=df)"
   ]
  },
  {
   "cell_type": "code",
   "execution_count": 143,
   "id": "642172bd",
   "metadata": {
    "scrolled": false
   },
   "outputs": [
    {
     "data": {
      "text/plain": [
       "<AxesSubplot:ylabel='minimum_nights'>"
      ]
     },
     "execution_count": 143,
     "metadata": {},
     "output_type": "execute_result"
    },
    {
     "data": {
      "image/png": "[encoded data removed]",
      "text/plain": [
       "<Figure size 864x576 with 1 Axes>"
      ]
     },
     "metadata": {
      "needs_background": "light"
     },
     "output_type": "display_data"
    }
   ],
   "source": [
    "plt.figure(figsize=(12,8))\n",
    "sns.boxplot(y='minimum_nights',data=df)"
   ]
  },
  {
   "cell_type": "code",
   "execution_count": 144,
   "id": "96fe95fa",
   "metadata": {
    "scrolled": false
   },
   "outputs": [
    {
     "data": {
      "text/plain": [
       "<AxesSubplot:ylabel='reviews_per_month'>"
      ]
     },
     "execution_count": 144,
     "metadata": {},
     "output_type": "execute_result"
    },
    {
     "data": {
      "image/png": "[encoded data removed]",
      "text/plain": [
       "<Figure size 864x576 with 1 Axes>"
      ]
     },
     "metadata": {
      "needs_background": "light"
     },
     "output_type": "display_data"
    }
   ],
   "source": [
    "plt.figure(figsize=(12,8))\n",
    "sns.boxplot(y='reviews_per_month',data=df)"
   ]
  },
  {
   "cell_type": "code",
   "execution_count": 145,
   "id": "5cf7560c",
   "metadata": {},
   "outputs": [
    {
     "data": {
      "text/plain": [
       "<AxesSubplot:ylabel='number_of_reviews'>"
      ]
     },
     "execution_count": 145,
     "metadata": {},
     "output_type": "execute_result"
    },
    {
     "data": {
      "image/png": "[encoded data removed]",
      "text/plain": [
       "<Figure size 864x576 with 1 Axes>"
      ]
     },
     "metadata": {
      "needs_background": "light"
     },
     "output_type": "display_data"
    }
   ],
   "source": [
    "plt.figure(figsize=(12,8))\n",
    "sns.boxplot(y='number_of_reviews',data=df)"
   ]
  },
  {
   "cell_type": "code",
   "execution_count": 147,
   "id": "93f04182",
   "metadata": {
    "scrolled": true
   },
   "outputs": [
    {
     "data": {
      "text/html": [
       "<div>\n",
       "<style scoped>\n",
       "    .dataframe tbody tr th:only-of-type {\n",
       "        vertical-align: middle;\n",
       "    }\n",
       "\n",
       "    .dataframe tbody tr th {\n",
       "        vertical-align: top;\n",
       "    }\n",
       "\n",
       "    .dataframe thead th {\n",
       "        text-align: right;\n",
       "    }\n",
       "</style>\n",
       "<table border=\"1\" class=\"dataframe\">\n",
       "  <thead>\n",
       "    <tr style=\"text-align: right;\">\n",
       "      <th></th>\n",
       "      <th>latitude</th>\n",
       "      <th>longitude</th>\n",
       "      <th>price</th>\n",
       "      <th>minimum_nights</th>\n",
       "      <th>number_of_reviews</th>\n",
       "      <th>reviews_per_month</th>\n",
       "      <th>calculated_host_listings_count</th>\n",
       "      <th>availability_365</th>\n",
       "    </tr>\n",
       "  </thead>\n",
       "  <tbody>\n",
       "    <tr>\n",
       "      <th>count</th>\n",
       "      <td>48895.000000</td>\n",
       "      <td>48895.000000</td>\n",
       "      <td>48895.000000</td>\n",
       "      <td>48895.000000</td>\n",
       "      <td>48895.000000</td>\n",
       "      <td>38843.000000</td>\n",
       "      <td>48895.000000</td>\n",
       "      <td>48895.000000</td>\n",
       "    </tr>\n",
       "    <tr>\n",
       "      <th>mean</th>\n",
       "      <td>40.728949</td>\n",
       "      <td>-73.952170</td>\n",
       "      <td>152.720687</td>\n",
       "      <td>7.029962</td>\n",
       "      <td>23.274466</td>\n",
       "      <td>1.373221</td>\n",
       "      <td>7.143982</td>\n",
       "      <td>112.781327</td>\n",
       "    </tr>\n",
       "    <tr>\n",
       "      <th>std</th>\n",
       "      <td>0.054530</td>\n",
       "      <td>0.046157</td>\n",
       "      <td>240.154170</td>\n",
       "      <td>20.510550</td>\n",
       "      <td>44.550582</td>\n",
       "      <td>1.680442</td>\n",
       "      <td>32.952519</td>\n",
       "      <td>131.622289</td>\n",
       "    </tr>\n",
       "    <tr>\n",
       "      <th>min</th>\n",
       "      <td>40.499790</td>\n",
       "      <td>-74.244420</td>\n",
       "      <td>0.000000</td>\n",
       "      <td>1.000000</td>\n",
       "      <td>0.000000</td>\n",
       "      <td>0.010000</td>\n",
       "      <td>1.000000</td>\n",
       "      <td>0.000000</td>\n",
       "    </tr>\n",
       "    <tr>\n",
       "      <th>25%</th>\n",
       "      <td>40.690100</td>\n",
       "      <td>-73.983070</td>\n",
       "      <td>69.000000</td>\n",
       "      <td>1.000000</td>\n",
       "      <td>1.000000</td>\n",
       "      <td>0.190000</td>\n",
       "      <td>1.000000</td>\n",
       "      <td>0.000000</td>\n",
       "    </tr>\n",
       "    <tr>\n",
       "      <th>50%</th>\n",
       "      <td>40.723070</td>\n",
       "      <td>-73.955680</td>\n",
       "      <td>106.000000</td>\n",
       "      <td>3.000000</td>\n",
       "      <td>5.000000</td>\n",
       "      <td>0.720000</td>\n",
       "      <td>1.000000</td>\n",
       "      <td>45.000000</td>\n",
       "    </tr>\n",
       "    <tr>\n",
       "      <th>75%</th>\n",
       "      <td>40.763115</td>\n",
       "      <td>-73.936275</td>\n",
       "      <td>175.000000</td>\n",
       "      <td>5.000000</td>\n",
       "      <td>24.000000</td>\n",
       "      <td>2.020000</td>\n",
       "      <td>2.000000</td>\n",
       "      <td>227.000000</td>\n",
       "    </tr>\n",
       "    <tr>\n",
       "      <th>max</th>\n",
       "      <td>40.913060</td>\n",
       "      <td>-73.712990</td>\n",
       "      <td>10000.000000</td>\n",
       "      <td>1250.000000</td>\n",
       "      <td>629.000000</td>\n",
       "      <td>58.500000</td>\n",
       "      <td>327.000000</td>\n",
       "      <td>365.000000</td>\n",
       "    </tr>\n",
       "  </tbody>\n",
       "</table>\n",
       "</div>"
      ],
      "text/plain": [
       "           latitude     longitude         price  minimum_nights  \\\n",
       "count  48895.000000  48895.000000  48895.000000    48895.000000   \n",
       "mean      40.728949    -73.952170    152.720687        7.029962   \n",
       "std        0.054530      0.046157    240.154170       20.510550   \n",
       "min       40.499790    -74.244420      0.000000        1.000000   \n",
       "25%       40.690100    -73.983070     69.000000        1.000000   \n",
       "50%       40.723070    -73.955680    106.000000        3.000000   \n",
       "75%       40.763115    -73.936275    175.000000        5.000000   \n",
       "max       40.913060    -73.712990  10000.000000     1250.000000   \n",
       "\n",
       "       number_of_reviews  reviews_per_month  calculated_host_listings_count  \\\n",
       "count       48895.000000       38843.000000                    48895.000000   \n",
       "mean           23.274466           1.373221                        7.143982   \n",
       "std            44.550582           1.680442                       32.952519   \n",
       "min             0.000000           0.010000                        1.000000   \n",
       "25%             1.000000           0.190000                        1.000000   \n",
       "50%             5.000000           0.720000                        1.000000   \n",
       "75%            24.000000           2.020000                        2.000000   \n",
       "max           629.000000          58.500000                      327.000000   \n",
       "\n",
       "       availability_365  \n",
       "count      48895.000000  \n",
       "mean         112.781327  \n",
       "std          131.622289  \n",
       "min            0.000000  \n",
       "25%            0.000000  \n",
       "50%           45.000000  \n",
       "75%          227.000000  \n",
       "max          365.000000  "
      ]
     },
     "execution_count": 147,
     "metadata": {},
     "output_type": "execute_result"
    }
   ],
   "source": [
    "df.describe()"
   ]
  },
  {
   "cell_type": "markdown",
   "id": "90f79b25",
   "metadata": {},
   "source": [
    "### Observation\n",
    "1. Missing values are in 4 columns\n",
    "2. There are no duplicates\n",
    "3. There are ouliers present in the price variable\n",
    "4. There are outliers present in reveiw per month columns as it is not suppose to be greater than 31\n",
    "5. There are ouliers present in minimum nights column as most listings don't require a full-year stay and values >365 days are present\n",
    "6. There are also outliers present in the no of reviews column as there are extream high value count"
   ]
  },
  {
   "cell_type": "markdown",
   "id": "76d12197",
   "metadata": {},
   "source": [
    "### Handling Missing values"
   ]
  },
  {
   "cell_type": "code",
   "execution_count": 148,
   "id": "d87dc487",
   "metadata": {},
   "outputs": [
    {
     "name": "stdout",
     "output_type": "stream",
     "text": [
      "0\n"
     ]
    }
   ],
   "source": [
    "# Replacing the null values in the name column with the host name and room type \n",
    "df[\"name\"] = df.apply(\n",
    "    lambda row: f\"{row['host_name']}'s {row['room_type']}\" if pd.isnull(row[\"name\"]) else row[\"name\"], axis=1\n",
    ")\n",
    "print(df['name'].isnull().sum())"
   ]
  },
  {
   "cell_type": "code",
   "execution_count": 149,
   "id": "0c723e87",
   "metadata": {},
   "outputs": [
    {
     "name": "stdout",
     "output_type": "stream",
     "text": [
      "         host_id         host_name\n",
      "2816     8362282        Drica 2017\n",
      "3224     2765870        Amarie2131\n",
      "10090   40694772            Data05\n",
      "13667   18652590           Robert2\n",
      "14147   56312532         Danoulo28\n",
      "16811   15380275          Sierra64\n",
      "18401   64065593      ResortShare5\n",
      "18532   83586204           Doe2930\n",
      "18582   64065593      ResortShare5\n",
      "18905   64065593      ResortShare5\n",
      "19110   64065593      ResortShare5\n",
      "19111   64065593      ResortShare5\n",
      "19112   64065593      ResortShare5\n",
      "19216   64065593      ResortShare5\n",
      "19952   64065593      ResortShare5\n",
      "19984   64065593      ResortShare5\n",
      "20027   64065593      ResortShare5\n",
      "25555   64065593      ResortShare5\n",
      "25650   64065593      ResortShare5\n",
      "25740   64065593      ResortShare5\n",
      "25825  100069033           Sarah-2\n",
      "31178  182488531            Kevin4\n",
      "32439   26490270           The 6o2\n",
      "33232  197053492  Lyric At 70 Pine\n",
      "33237  197053492  Lyric At 70 Pine\n",
      "33240  197053492  Lyric At 70 Pine\n",
      "33448  182488531            Kevin4\n",
      "33866  201667999            Lily2R\n",
      "33964  202318295      2018Serenity\n",
      "35325    4740447      5 Star Stays\n",
      "37403  215540583         OneBaz106\n",
      "38828  228263278               475\n",
      "39254  228263278               475\n",
      "39255  228263278               475\n",
      "39425  228263278               475\n",
      "39433  229693987              0123\n",
      "39547  230378560              Ta56\n",
      "40541  197053492  Lyric At 70 Pine\n",
      "41132  197053492  Lyric At 70 Pine\n",
      "45118  197053492  Lyric At 70 Pine\n",
      "45119  197053492  Lyric At 70 Pine\n",
      "45120  197053492  Lyric At 70 Pine\n",
      "46588  266025070               371\n",
      "47835  201667999            Lily2R\n"
     ]
    }
   ],
   "source": [
    "# checking host name colum\n",
    "invalid_hostnames = df[df[\"host_name\"].astype(str).str.match(r\".*\\d+.*\")]\n",
    "print(invalid_hostnames[[\"host_id\", \"host_name\"]])\n"
   ]
  },
  {
   "cell_type": "code",
   "execution_count": 150,
   "id": "d0e86f53",
   "metadata": {},
   "outputs": [
    {
     "name": "stdout",
     "output_type": "stream",
     "text": [
      "Empty DataFrame\n",
      "Columns: [id, name, host_id, host_name, neighbourhood_group, neighbourhood, latitude, longitude, room_type, price, minimum_nights, number_of_reviews, last_review, reviews_per_month, calculated_host_listings_count, availability_365]\n",
      "Index: []\n"
     ]
    }
   ],
   "source": [
    "# removing numbers from host name\n",
    "import re\n",
    "df[\"host_name\"] = df[\"host_name\"].apply(lambda x: re.sub(r\"\\d+\", \"\", x).strip() if isinstance(x, str) else \"Unknown Host\")\n",
    "print(df[df[\"host_name\"].astype(str).str.match(r\".*\\d+.*\")]) "
   ]
  },
  {
   "cell_type": "code",
   "execution_count": 151,
   "id": "c6b35977",
   "metadata": {},
   "outputs": [
    {
     "name": "stdout",
     "output_type": "stream",
     "text": [
      "0\n"
     ]
    }
   ],
   "source": [
    "print(df['host_name'].isnull().sum())"
   ]
  },
  {
   "cell_type": "code",
   "execution_count": 152,
   "id": "ba226e2e",
   "metadata": {
    "scrolled": false
   },
   "outputs": [
    {
     "name": "stdout",
     "output_type": "stream",
     "text": [
      "             id                                               name    host_id  \\\n",
      "360      100184                                          Bienvenue     526653   \n",
      "2700    1449546                            Cozy Studio in Flatbush    7779204   \n",
      "5745    4183989    SPRING in the City!! Zen-Style Tranquil Bedroom     919218   \n",
      "6075    4446862                 Charming Room in Prospect Heights!   23077718   \n",
      "6582    4763327                Luxurious, best location, spa inc'l   24576978   \n",
      "8163    6292866                          Modern Quiet Gem Near All   32722063   \n",
      "8257    6360224                    Sunny, Private room in Bushwick   33134899   \n",
      "8852    6786181                       R&S Modern Spacious Hideaway   32722063   \n",
      "9138    6992973                    1 Bedroom in Prime Williamsburg    5162530   \n",
      "9817    7556587                               Sunny Room in Harlem   39608626   \n",
      "14040  10709846                 Sunny, spacious room in Greenpoint    7822683   \n",
      "14631  11553543                                  Cozy Room Astoria   26138712   \n",
      "15174  12113879     Sunny, Large West Village 1 BR Near Everything    5300585   \n",
      "19565  15648096              Spacious 2 bedroom close to Manhattan  100971588   \n",
      "27777  21787094         Spacious and Bright Midtown East Apartment     415290   \n",
      "27962  21867710  Amazing room in the centre on Manhatten! Welcome!  159156636   \n",
      "28042  21901156  Best Deal! Lovely place in Manhattan! Time Squ...  159156636   \n",
      "28274  21990808                 ***SLEEPING IN THE GOLDEN PLACE***  159156636   \n",
      "30570  23660605    Private Bedroom w/ Balcony view of Central Park  177146433   \n",
      "32193  25180572                     Beautiful Cozy Studio Apt. UWS  119609345   \n",
      "38992  30468335            LARGE Prospect Lefferts Gardens Bedroom  228750026   \n",
      "\n",
      "          host_name neighbourhood_group     neighbourhood  latitude  \\\n",
      "360    Unknown Host              Queens    Queens Village  40.72413   \n",
      "2700   Unknown Host            Brooklyn          Flatbush  40.64965   \n",
      "5745   Unknown Host           Manhattan            Harlem  40.80606   \n",
      "6075   Unknown Host            Brooklyn     Crown Heights  40.67512   \n",
      "6582   Unknown Host            Brooklyn        Greenpoint  40.72035   \n",
      "8163   Unknown Host            Brooklyn     East Flatbush  40.65263   \n",
      "8257   Unknown Host            Brooklyn          Bushwick  40.70146   \n",
      "8852   Unknown Host            Brooklyn     East Flatbush  40.64345   \n",
      "9138   Unknown Host            Brooklyn      Williamsburg  40.71838   \n",
      "9817   Unknown Host           Manhattan            Harlem  40.82929   \n",
      "14040  Unknown Host            Brooklyn        Greenpoint  40.73539   \n",
      "14631  Unknown Host              Queens  Ditmars Steinway  40.77587   \n",
      "15174  Unknown Host           Manhattan           Chelsea  40.73949   \n",
      "19565  Unknown Host               Bronx        Highbridge  40.83844   \n",
      "27777  Unknown Host           Manhattan   Upper East Side  40.76436   \n",
      "27962  Unknown Host           Manhattan    Hell's Kitchen  40.75668   \n",
      "28042  Unknown Host           Manhattan    Hell's Kitchen  40.75656   \n",
      "28274  Unknown Host           Manhattan    Hell's Kitchen  40.75835   \n",
      "30570  Unknown Host           Manhattan       East Harlem  40.79766   \n",
      "32193  Unknown Host           Manhattan   Upper West Side  40.77701   \n",
      "38992  Unknown Host            Brooklyn          Flatbush  40.65152   \n",
      "\n",
      "       longitude        room_type  price  minimum_nights  number_of_reviews  \\\n",
      "360    -73.76133     Private room     50               1                 43   \n",
      "2700   -73.96154  Entire home/apt    100              30                 49   \n",
      "5745   -73.95061     Private room     86               3                 34   \n",
      "6075   -73.96146     Private room     50               1                  0   \n",
      "6582   -73.95355  Entire home/apt    195               1                  1   \n",
      "8163   -73.93215  Entire home/apt     85               2                182   \n",
      "8257   -73.92792     Private room     37               1                  1   \n",
      "8852   -73.93643  Entire home/apt    100               2                157   \n",
      "9138   -73.95630  Entire home/apt    145               1                  0   \n",
      "9817   -73.94182     Private room     28               1                  1   \n",
      "14040  -73.95838     Private room     55              10                  2   \n",
      "14631  -73.91775     Private room     45               1                  5   \n",
      "15174  -73.99801  Entire home/apt    220               4                 81   \n",
      "19565  -73.92489  Entire home/apt     75               4                 37   \n",
      "27777  -73.96836  Entire home/apt    325               1                  0   \n",
      "27962  -73.99097     Private room    120               1                 89   \n",
      "28042  -73.99063     Private room    120               1                109   \n",
      "28274  -73.99065     Private room    120               1                 88   \n",
      "30570  -73.94824     Private room    139               1                  6   \n",
      "32193  -73.97667  Entire home/apt    180               4                  0   \n",
      "38992  -73.95271     Private room     55               7                  0   \n",
      "\n",
      "      last_review  reviews_per_month  calculated_host_listings_count  \\\n",
      "360    2019-07-08               0.45                               1   \n",
      "2700   2017-01-02               0.69                               1   \n",
      "5745   2019-05-23               1.00                               1   \n",
      "6075          NaT                NaN                               1   \n",
      "6582   2015-10-20               0.02                               1   \n",
      "8163   2019-06-19               3.59                               2   \n",
      "8257   2015-07-01               0.02                               1   \n",
      "8852   2019-06-19               3.18                               2   \n",
      "9138          NaT                NaN                               1   \n",
      "9817   2015-08-01               0.02                               1   \n",
      "14040  2016-11-05               0.05                               1   \n",
      "14631  2017-01-01               0.13                               1   \n",
      "15174  2019-07-02               2.11                               1   \n",
      "19565  2019-07-07               1.21                               1   \n",
      "27777         NaT                NaN                               1   \n",
      "27962  2019-01-01               5.16                               3   \n",
      "28042  2019-01-01               5.97                               3   \n",
      "28274  2018-12-14               4.93                               3   \n",
      "30570  2018-08-12               0.46                               1   \n",
      "32193         NaT                NaN                               1   \n",
      "38992         NaT                NaN                               1   \n",
      "\n",
      "       availability_365  \n",
      "360                  88  \n",
      "2700                342  \n",
      "5745                359  \n",
      "6075                  0  \n",
      "6582                  0  \n",
      "8163                318  \n",
      "8257                  0  \n",
      "8852                342  \n",
      "9138                  0  \n",
      "9817                  0  \n",
      "14040                 0  \n",
      "14631                 0  \n",
      "15174               217  \n",
      "19565                26  \n",
      "27777                 0  \n",
      "27962                 0  \n",
      "28042                 0  \n",
      "28274                 0  \n",
      "30570                 0  \n",
      "32193                 0  \n",
      "38992                69  \n"
     ]
    }
   ],
   "source": [
    "print(df[df[\"host_name\"] == \"Unknown Host\"])"
   ]
  },
  {
   "cell_type": "code",
   "execution_count": 153,
   "id": "19ee1626",
   "metadata": {},
   "outputs": [
    {
     "name": "stdout",
     "output_type": "stream",
     "text": [
      "10052\n"
     ]
    }
   ],
   "source": [
    "print(df['last_review'].isnull().sum())"
   ]
  },
  {
   "cell_type": "code",
   "execution_count": 154,
   "id": "159c9d05",
   "metadata": {},
   "outputs": [],
   "source": [
    "# Set last_review to NaT if there are no reviews\n",
    "df.loc[df[\"number_of_reviews\"] == 0, \"last_review\"] = pd.NaT\n",
    "\n",
    "# Fill missing last_review values with the median date\n",
    "median_date = df[\"last_review\"].median()\n",
    "df.loc[(df[\"last_review\"].isna()) & (df[\"number_of_reviews\"] > 0), \"last_review\"] = median_date\n"
   ]
  },
  {
   "cell_type": "code",
   "execution_count": 155,
   "id": "0801d21b",
   "metadata": {
    "scrolled": true
   },
   "outputs": [
    {
     "name": "stdout",
     "output_type": "stream",
     "text": [
      "10052\n"
     ]
    }
   ],
   "source": [
    "print(df['last_review'].isnull().sum())"
   ]
  },
  {
   "cell_type": "code",
   "execution_count": 156,
   "id": "e43f620f",
   "metadata": {},
   "outputs": [
    {
     "name": "stdout",
     "output_type": "stream",
     "text": [
      "             id                                               name   host_id  \\\n",
      "2          3647                THE VILLAGE OF HARLEM....NEW YORK !      4632   \n",
      "19         7750                  Huge 2 BR Upper East  Cental Park     17985   \n",
      "26         8700  Magnifique Suite au N de Manhattan - vue Cloitres     26394   \n",
      "36        11452                        Clean and Quiet in Brooklyn      7355   \n",
      "38        11943                          Country space in the city     45445   \n",
      "...         ...                                                ...       ...   \n",
      "48890  36484665    Charming one bedroom - newly renovated rowhouse   8232441   \n",
      "48891  36485057      Affordable room in Bushwick/East Williamsburg   6570630   \n",
      "48892  36485431            Sunny Studio at Historical Neighborhood  23492952   \n",
      "48893  36485609               43rd St. Time Square-cozy single bed  30985759   \n",
      "48894  36487245  Trendy duplex in the very heart of Hell's Kitchen  68119814   \n",
      "\n",
      "             host_name neighbourhood_group       neighbourhood  latitude  \\\n",
      "2            Elisabeth           Manhattan              Harlem  40.80902   \n",
      "19                Sing           Manhattan         East Harlem  40.79685   \n",
      "26     Claude & Sophie           Manhattan              Inwood  40.86754   \n",
      "36                  Vt            Brooklyn  Bedford-Stuyvesant  40.68876   \n",
      "38             Harriet            Brooklyn            Flatbush  40.63702   \n",
      "...                ...                 ...                 ...       ...   \n",
      "48890          Sabrina            Brooklyn  Bedford-Stuyvesant  40.67853   \n",
      "48891          Marisol            Brooklyn            Bushwick  40.70184   \n",
      "48892    Ilgar & Aysel           Manhattan              Harlem  40.81475   \n",
      "48893              Taz           Manhattan      Hell's Kitchen  40.75751   \n",
      "48894       Christophe           Manhattan      Hell's Kitchen  40.76404   \n",
      "\n",
      "       longitude        room_type  price  minimum_nights  number_of_reviews  \\\n",
      "2      -73.94190     Private room    150               3                  0   \n",
      "19     -73.94872  Entire home/apt    190               7                  0   \n",
      "26     -73.92639     Private room     80               4                  0   \n",
      "36     -73.94312     Private room     35              60                  0   \n",
      "38     -73.96327     Private room    150               1                  0   \n",
      "...          ...              ...    ...             ...                ...   \n",
      "48890  -73.94995     Private room     70               2                  0   \n",
      "48891  -73.93317     Private room     40               4                  0   \n",
      "48892  -73.94867  Entire home/apt    115              10                  0   \n",
      "48893  -73.99112      Shared room     55               1                  0   \n",
      "48894  -73.98933     Private room     90               7                  0   \n",
      "\n",
      "      last_review  reviews_per_month  calculated_host_listings_count  \\\n",
      "2             NaT                NaN                               1   \n",
      "19            NaT                NaN                               2   \n",
      "26            NaT                NaN                               1   \n",
      "36            NaT                NaN                               1   \n",
      "38            NaT                NaN                               1   \n",
      "...           ...                ...                             ...   \n",
      "48890         NaT                NaN                               2   \n",
      "48891         NaT                NaN                               2   \n",
      "48892         NaT                NaN                               1   \n",
      "48893         NaT                NaN                               6   \n",
      "48894         NaT                NaN                               1   \n",
      "\n",
      "       availability_365  \n",
      "2                   365  \n",
      "19                  249  \n",
      "26                    0  \n",
      "36                  365  \n",
      "38                  365  \n",
      "...                 ...  \n",
      "48890                 9  \n",
      "48891                36  \n",
      "48892                27  \n",
      "48893                 2  \n",
      "48894                23  \n",
      "\n",
      "[10052 rows x 16 columns]\n"
     ]
    }
   ],
   "source": [
    "print(df[df[\"number_of_reviews\"] == 0])"
   ]
  },
  {
   "cell_type": "code",
   "execution_count": 157,
   "id": "51580d74",
   "metadata": {},
   "outputs": [],
   "source": [
    "# replace null value with 0\n",
    "df['reviews_per_month'].fillna(0,inplace=True)"
   ]
  },
  {
   "cell_type": "code",
   "execution_count": 158,
   "id": "2a0fe0db",
   "metadata": {},
   "outputs": [
    {
     "data": {
      "text/plain": [
       "0"
      ]
     },
     "execution_count": 158,
     "metadata": {},
     "output_type": "execute_result"
    }
   ],
   "source": [
    "df['reviews_per_month'].isnull().sum()"
   ]
  },
  {
   "cell_type": "markdown",
   "id": "b6b91046",
   "metadata": {},
   "source": [
    "### Outlier Treatment Using percentile method"
   ]
  },
  {
   "cell_type": "code",
   "execution_count": 159,
   "id": "56c643c0",
   "metadata": {},
   "outputs": [
    {
     "data": {
      "text/html": [
       "<div>\n",
       "<style scoped>\n",
       "    .dataframe tbody tr th:only-of-type {\n",
       "        vertical-align: middle;\n",
       "    }\n",
       "\n",
       "    .dataframe tbody tr th {\n",
       "        vertical-align: top;\n",
       "    }\n",
       "\n",
       "    .dataframe thead th {\n",
       "        text-align: right;\n",
       "    }\n",
       "</style>\n",
       "<table border=\"1\" class=\"dataframe\">\n",
       "  <thead>\n",
       "    <tr style=\"text-align: right;\">\n",
       "      <th></th>\n",
       "      <th>id</th>\n",
       "      <th>name</th>\n",
       "      <th>host_id</th>\n",
       "      <th>host_name</th>\n",
       "      <th>neighbourhood_group</th>\n",
       "      <th>neighbourhood</th>\n",
       "      <th>latitude</th>\n",
       "      <th>longitude</th>\n",
       "      <th>room_type</th>\n",
       "      <th>price</th>\n",
       "      <th>minimum_nights</th>\n",
       "      <th>number_of_reviews</th>\n",
       "      <th>last_review</th>\n",
       "      <th>reviews_per_month</th>\n",
       "      <th>calculated_host_listings_count</th>\n",
       "      <th>availability_365</th>\n",
       "    </tr>\n",
       "  </thead>\n",
       "  <tbody>\n",
       "    <tr>\n",
       "      <th>85</th>\n",
       "      <td>19601</td>\n",
       "      <td>perfect for a family or small group</td>\n",
       "      <td>74303</td>\n",
       "      <td>Maggie</td>\n",
       "      <td>Brooklyn</td>\n",
       "      <td>Brooklyn Heights</td>\n",
       "      <td>40.69723</td>\n",
       "      <td>-73.99268</td>\n",
       "      <td>Entire home/apt</td>\n",
       "      <td>800</td>\n",
       "      <td>1</td>\n",
       "      <td>25</td>\n",
       "      <td>2016-08-04</td>\n",
       "      <td>0.24</td>\n",
       "      <td>1</td>\n",
       "      <td>7</td>\n",
       "    </tr>\n",
       "    <tr>\n",
       "      <th>496</th>\n",
       "      <td>174966</td>\n",
       "      <td>Luxury 2Bed/2.5Bath Central Park View</td>\n",
       "      <td>836168</td>\n",
       "      <td>Henry</td>\n",
       "      <td>Manhattan</td>\n",
       "      <td>Upper West Side</td>\n",
       "      <td>40.77350</td>\n",
       "      <td>-73.98697</td>\n",
       "      <td>Entire home/apt</td>\n",
       "      <td>2000</td>\n",
       "      <td>30</td>\n",
       "      <td>30</td>\n",
       "      <td>2018-05-05</td>\n",
       "      <td>0.33</td>\n",
       "      <td>11</td>\n",
       "      <td>0</td>\n",
       "    </tr>\n",
       "    <tr>\n",
       "      <th>662</th>\n",
       "      <td>250801</td>\n",
       "      <td>Heart &amp; Soul of Greenwich Village</td>\n",
       "      <td>1314834</td>\n",
       "      <td>Rhona</td>\n",
       "      <td>Manhattan</td>\n",
       "      <td>Greenwich Village</td>\n",
       "      <td>40.73129</td>\n",
       "      <td>-73.99944</td>\n",
       "      <td>Entire home/apt</td>\n",
       "      <td>850</td>\n",
       "      <td>3</td>\n",
       "      <td>107</td>\n",
       "      <td>2019-05-23</td>\n",
       "      <td>1.15</td>\n",
       "      <td>1</td>\n",
       "      <td>249</td>\n",
       "    </tr>\n",
       "    <tr>\n",
       "      <th>762</th>\n",
       "      <td>273190</td>\n",
       "      <td>6 Bedroom Landmark West Village Townhouse</td>\n",
       "      <td>605463</td>\n",
       "      <td>West Village</td>\n",
       "      <td>Manhattan</td>\n",
       "      <td>West Village</td>\n",
       "      <td>40.73301</td>\n",
       "      <td>-74.00268</td>\n",
       "      <td>Entire home/apt</td>\n",
       "      <td>1300</td>\n",
       "      <td>5</td>\n",
       "      <td>28</td>\n",
       "      <td>2018-09-25</td>\n",
       "      <td>0.31</td>\n",
       "      <td>4</td>\n",
       "      <td>297</td>\n",
       "    </tr>\n",
       "    <tr>\n",
       "      <th>780</th>\n",
       "      <td>279857</td>\n",
       "      <td>#1 Yellow Block BnB/see at Net Flix Show Stay ...</td>\n",
       "      <td>1420300</td>\n",
       "      <td>Gordy</td>\n",
       "      <td>Brooklyn</td>\n",
       "      <td>Bedford-Stuyvesant</td>\n",
       "      <td>40.68492</td>\n",
       "      <td>-73.95489</td>\n",
       "      <td>Entire home/apt</td>\n",
       "      <td>800</td>\n",
       "      <td>4</td>\n",
       "      <td>122</td>\n",
       "      <td>2019-07-02</td>\n",
       "      <td>1.37</td>\n",
       "      <td>1</td>\n",
       "      <td>257</td>\n",
       "    </tr>\n",
       "  </tbody>\n",
       "</table>\n",
       "</div>"
      ],
      "text/plain": [
       "         id                                               name  host_id  \\\n",
       "85    19601                perfect for a family or small group    74303   \n",
       "496  174966              Luxury 2Bed/2.5Bath Central Park View   836168   \n",
       "662  250801                 Heart & Soul of Greenwich Village   1314834   \n",
       "762  273190          6 Bedroom Landmark West Village Townhouse   605463   \n",
       "780  279857  #1 Yellow Block BnB/see at Net Flix Show Stay ...  1420300   \n",
       "\n",
       "        host_name neighbourhood_group       neighbourhood  latitude  \\\n",
       "85         Maggie            Brooklyn    Brooklyn Heights  40.69723   \n",
       "496         Henry           Manhattan     Upper West Side  40.77350   \n",
       "662         Rhona           Manhattan   Greenwich Village  40.73129   \n",
       "762  West Village           Manhattan        West Village  40.73301   \n",
       "780         Gordy            Brooklyn  Bedford-Stuyvesant  40.68492   \n",
       "\n",
       "     longitude        room_type  price  minimum_nights  number_of_reviews  \\\n",
       "85   -73.99268  Entire home/apt    800               1                 25   \n",
       "496  -73.98697  Entire home/apt   2000              30                 30   \n",
       "662  -73.99944  Entire home/apt    850               3                107   \n",
       "762  -74.00268  Entire home/apt   1300               5                 28   \n",
       "780  -73.95489  Entire home/apt    800               4                122   \n",
       "\n",
       "    last_review  reviews_per_month  calculated_host_listings_count  \\\n",
       "85   2016-08-04               0.24                               1   \n",
       "496  2018-05-05               0.33                              11   \n",
       "662  2019-05-23               1.15                               1   \n",
       "762  2018-09-25               0.31                               4   \n",
       "780  2019-07-02               1.37                               1   \n",
       "\n",
       "     availability_365  \n",
       "85                  7  \n",
       "496                 0  \n",
       "662               249  \n",
       "762               297  \n",
       "780               257  "
      ]
     },
     "execution_count": 159,
     "metadata": {},
     "output_type": "execute_result"
    }
   ],
   "source": [
    "lb =df['price'].quantile(0.01)\n",
    "ub = df[\"price\"].quantile(0.99)  \n",
    "outlier =df[(df['price']<lb)|(df['price'] >ub)]\n",
    "outlier.head()"
   ]
  },
  {
   "cell_type": "code",
   "execution_count": 160,
   "id": "e84a2ba6",
   "metadata": {},
   "outputs": [],
   "source": [
    "def detect_outliers_percentage(df, column, lower_percentile=0.01, upper_percentile=0.99):\n",
    "    lb = df[column].quantile(lower_percentile)\n",
    "    ub = df[column].quantile(upper_percentile)\n",
    "    \n",
    "    outliers = df[(df[column] < lb) | (df[column] > ub)]\n",
    "    \n",
    "    df[column] = df[column].clip(lower=lb, upper=ub)\n",
    "    return df\n",
    "   "
   ]
  },
  {
   "cell_type": "code",
   "execution_count": 162,
   "id": "f59df787",
   "metadata": {},
   "outputs": [
    {
     "data": {
      "text/html": [
       "<div>\n",
       "<style scoped>\n",
       "    .dataframe tbody tr th:only-of-type {\n",
       "        vertical-align: middle;\n",
       "    }\n",
       "\n",
       "    .dataframe tbody tr th {\n",
       "        vertical-align: top;\n",
       "    }\n",
       "\n",
       "    .dataframe thead th {\n",
       "        text-align: right;\n",
       "    }\n",
       "</style>\n",
       "<table border=\"1\" class=\"dataframe\">\n",
       "  <thead>\n",
       "    <tr style=\"text-align: right;\">\n",
       "      <th></th>\n",
       "      <th>id</th>\n",
       "      <th>name</th>\n",
       "      <th>host_id</th>\n",
       "      <th>host_name</th>\n",
       "      <th>neighbourhood_group</th>\n",
       "      <th>neighbourhood</th>\n",
       "      <th>latitude</th>\n",
       "      <th>longitude</th>\n",
       "      <th>room_type</th>\n",
       "      <th>price</th>\n",
       "      <th>minimum_nights</th>\n",
       "      <th>number_of_reviews</th>\n",
       "      <th>last_review</th>\n",
       "      <th>reviews_per_month</th>\n",
       "      <th>calculated_host_listings_count</th>\n",
       "      <th>availability_365</th>\n",
       "    </tr>\n",
       "  </thead>\n",
       "  <tbody>\n",
       "    <tr>\n",
       "      <th>0</th>\n",
       "      <td>2539</td>\n",
       "      <td>Clean &amp; quiet apt home by the park</td>\n",
       "      <td>2787</td>\n",
       "      <td>John</td>\n",
       "      <td>Brooklyn</td>\n",
       "      <td>Kensington</td>\n",
       "      <td>40.64749</td>\n",
       "      <td>-73.97237</td>\n",
       "      <td>Private room</td>\n",
       "      <td>149.0</td>\n",
       "      <td>1.0</td>\n",
       "      <td>9.0</td>\n",
       "      <td>2018-10-19</td>\n",
       "      <td>0.21</td>\n",
       "      <td>6</td>\n",
       "      <td>365</td>\n",
       "    </tr>\n",
       "    <tr>\n",
       "      <th>1</th>\n",
       "      <td>2595</td>\n",
       "      <td>Skylit Midtown Castle</td>\n",
       "      <td>2845</td>\n",
       "      <td>Jennifer</td>\n",
       "      <td>Manhattan</td>\n",
       "      <td>Midtown</td>\n",
       "      <td>40.75362</td>\n",
       "      <td>-73.98377</td>\n",
       "      <td>Entire home/apt</td>\n",
       "      <td>225.0</td>\n",
       "      <td>1.0</td>\n",
       "      <td>45.0</td>\n",
       "      <td>2019-05-21</td>\n",
       "      <td>0.38</td>\n",
       "      <td>2</td>\n",
       "      <td>355</td>\n",
       "    </tr>\n",
       "    <tr>\n",
       "      <th>2</th>\n",
       "      <td>3647</td>\n",
       "      <td>THE VILLAGE OF HARLEM....NEW YORK !</td>\n",
       "      <td>4632</td>\n",
       "      <td>Elisabeth</td>\n",
       "      <td>Manhattan</td>\n",
       "      <td>Harlem</td>\n",
       "      <td>40.80902</td>\n",
       "      <td>-73.94190</td>\n",
       "      <td>Private room</td>\n",
       "      <td>150.0</td>\n",
       "      <td>3.0</td>\n",
       "      <td>0.0</td>\n",
       "      <td>NaT</td>\n",
       "      <td>0.00</td>\n",
       "      <td>1</td>\n",
       "      <td>365</td>\n",
       "    </tr>\n",
       "    <tr>\n",
       "      <th>3</th>\n",
       "      <td>3831</td>\n",
       "      <td>Cozy Entire Floor of Brownstone</td>\n",
       "      <td>4869</td>\n",
       "      <td>LisaRoxanne</td>\n",
       "      <td>Brooklyn</td>\n",
       "      <td>Clinton Hill</td>\n",
       "      <td>40.68514</td>\n",
       "      <td>-73.95976</td>\n",
       "      <td>Entire home/apt</td>\n",
       "      <td>89.0</td>\n",
       "      <td>1.0</td>\n",
       "      <td>214.0</td>\n",
       "      <td>2019-07-05</td>\n",
       "      <td>4.64</td>\n",
       "      <td>1</td>\n",
       "      <td>194</td>\n",
       "    </tr>\n",
       "    <tr>\n",
       "      <th>4</th>\n",
       "      <td>5022</td>\n",
       "      <td>Entire Apt: Spacious Studio/Loft by central park</td>\n",
       "      <td>7192</td>\n",
       "      <td>Laura</td>\n",
       "      <td>Manhattan</td>\n",
       "      <td>East Harlem</td>\n",
       "      <td>40.79851</td>\n",
       "      <td>-73.94399</td>\n",
       "      <td>Entire home/apt</td>\n",
       "      <td>80.0</td>\n",
       "      <td>10.0</td>\n",
       "      <td>9.0</td>\n",
       "      <td>2018-11-19</td>\n",
       "      <td>0.10</td>\n",
       "      <td>1</td>\n",
       "      <td>0</td>\n",
       "    </tr>\n",
       "  </tbody>\n",
       "</table>\n",
       "</div>"
      ],
      "text/plain": [
       "     id                                              name host_id  \\\n",
       "0  2539                Clean & quiet apt home by the park    2787   \n",
       "1  2595                             Skylit Midtown Castle    2845   \n",
       "2  3647               THE VILLAGE OF HARLEM....NEW YORK !    4632   \n",
       "3  3831                   Cozy Entire Floor of Brownstone    4869   \n",
       "4  5022  Entire Apt: Spacious Studio/Loft by central park    7192   \n",
       "\n",
       "     host_name neighbourhood_group neighbourhood  latitude  longitude  \\\n",
       "0         John            Brooklyn    Kensington  40.64749  -73.97237   \n",
       "1     Jennifer           Manhattan       Midtown  40.75362  -73.98377   \n",
       "2    Elisabeth           Manhattan        Harlem  40.80902  -73.94190   \n",
       "3  LisaRoxanne            Brooklyn  Clinton Hill  40.68514  -73.95976   \n",
       "4        Laura           Manhattan   East Harlem  40.79851  -73.94399   \n",
       "\n",
       "         room_type  price  minimum_nights  number_of_reviews last_review  \\\n",
       "0     Private room  149.0             1.0                9.0  2018-10-19   \n",
       "1  Entire home/apt  225.0             1.0               45.0  2019-05-21   \n",
       "2     Private room  150.0             3.0                0.0         NaT   \n",
       "3  Entire home/apt   89.0             1.0              214.0  2019-07-05   \n",
       "4  Entire home/apt   80.0            10.0                9.0  2018-11-19   \n",
       "\n",
       "   reviews_per_month  calculated_host_listings_count  availability_365  \n",
       "0               0.21                               6               365  \n",
       "1               0.38                               2               355  \n",
       "2               0.00                               1               365  \n",
       "3               4.64                               1               194  \n",
       "4               0.10                               1                 0  "
      ]
     },
     "execution_count": 162,
     "metadata": {},
     "output_type": "execute_result"
    }
   ],
   "source": [
    "# cap price,minimum_nights,reviews_per_month and no_of_reviews values\n",
    "df= detect_outliers_percentage(df, \"price\")\n",
    "df= detect_outliers_percentage(df, \"reviews_per_month\")\n",
    "df= detect_outliers_percentage(df, \"minimum_nights\")\n",
    "df= detect_outliers_percentage(df, \"number_of_reviews\")\n",
    "df.head()"
   ]
  },
  {
   "cell_type": "code",
   "execution_count": 166,
   "id": "430e3b82",
   "metadata": {},
   "outputs": [
    {
     "data": {
      "text/plain": [
       "Text(0.5, 1.0, 'price after capping')"
      ]
     },
     "execution_count": 166,
     "metadata": {},
     "output_type": "execute_result"
    },
    {
     "data": {
      "image/png": "[encoded data removed]",
      "text/plain": [
       "<Figure size 864x576 with 1 Axes>"
      ]
     },
     "metadata": {
      "needs_background": "light"
     },
     "output_type": "display_data"
    }
   ],
   "source": [
    "plt.figure(figsize=(12,8))\n",
    "sns.boxplot(y='price',data=df)\n",
    "plt.title('price after capping',size=20)"
   ]
  },
  {
   "cell_type": "code",
   "execution_count": 171,
   "id": "3ee25228",
   "metadata": {},
   "outputs": [],
   "source": [
    "# removing listing with prices at 0 because it is unlikely\n",
    "df = df[df[\"price\"] > 0]"
   ]
  },
  {
   "cell_type": "code",
   "execution_count": 172,
   "id": "ccd4dcff",
   "metadata": {
    "scrolled": false
   },
   "outputs": [
    {
     "data": {
      "text/plain": [
       "Text(0.5, 1.0, 'Review per month after capping')"
      ]
     },
     "execution_count": 172,
     "metadata": {},
     "output_type": "execute_result"
    },
    {
     "data": {
      "image/png": "[encoded data removed]",
      "text/plain": [
       "<Figure size 864x576 with 1 Axes>"
      ]
     },
     "metadata": {
      "needs_background": "light"
     },
     "output_type": "display_data"
    }
   ],
   "source": [
    "plt.figure(figsize=(12,8))\n",
    "sns.boxplot(y='reviews_per_month',data=df)\n",
    "plt.title('Review per month after capping',size=20)"
   ]
  },
  {
   "cell_type": "code",
   "execution_count": 169,
   "id": "86186d75",
   "metadata": {},
   "outputs": [
    {
     "data": {
      "text/plain": [
       "Text(0.5, 1.0, 'minimum nights after capping')"
      ]
     },
     "execution_count": 169,
     "metadata": {},
     "output_type": "execute_result"
    },
    {
     "data": {
      "image/png": "[encoded data removed]",
      "text/plain": [
       "<Figure size 864x576 with 1 Axes>"
      ]
     },
     "metadata": {
      "needs_background": "light"
     },
     "output_type": "display_data"
    }
   ],
   "source": [
    "plt.figure(figsize=(12,8))\n",
    "sns.boxplot(y='minimum_nights',data=df)\n",
    "plt.title('minimum nights after capping',size=20)"
   ]
  },
  {
   "cell_type": "code",
   "execution_count": 170,
   "id": "f22d30dc",
   "metadata": {},
   "outputs": [
    {
     "data": {
      "text/plain": [
       "Text(0.5, 1.0, 'number of reviews after capping')"
      ]
     },
     "execution_count": 170,
     "metadata": {},
     "output_type": "execute_result"
    },
    {
     "data": {
      "image/png": "[encoded data removed]",
      "text/plain": [
       "<Figure size 864x576 with 1 Axes>"
      ]
     },
     "metadata": {
      "needs_background": "light"
     },
     "output_type": "display_data"
    }
   ],
   "source": [
    "plt.figure(figsize=(12,8))\n",
    "sns.boxplot(y='number_of_reviews',data=df)\n",
    "plt.title('number of reviews after capping',size=20)"
   ]
  },
  {
   "cell_type": "code",
   "execution_count": 173,
   "id": "ce33f3b5",
   "metadata": {},
   "outputs": [],
   "source": [
    "df.to_csv(\"NYC_CLEANED.csv\", index=False)"
   ]
  }
 ],
 "metadata": {
  "kernelspec": {
   "display_name": "Python 3 (ipykernel)",
   "language": "python",
   "name": "python3"
  },
  "language_info": {
   "codemirror_mode": {
    "name": "ipython",
    "version": 3
   },
   "file_extension": ".py",
   "mimetype": "text/x-python",
   "name": "python",
   "nbconvert_exporter": "python",
   "pygments_lexer": "ipython3",
   "version": "3.9.12"
  }
 },
 "nbformat": 4,
 "nbformat_minor": 5
}
